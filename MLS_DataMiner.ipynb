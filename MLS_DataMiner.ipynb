{
 "metadata": {
  "name": "",
  "signature": "sha256:e01fc30d32863a8dee13bcc9e72fcfa0ffa4ea55d68970e0608a397a0e5e7cef"
 },
 "nbformat": 3,
 "nbformat_minor": 0,
 "worksheets": [
  {
   "cells": [
    {
     "cell_type": "code",
     "collapsed": false,
     "input": [
      "import requests, time, re, os\n",
      "from BeautifulSoup import BeautifulSoup as BS\n",
      "from datetime import datetime\n",
      "import csv\n",
      "import json\n",
      "\n",
      "year = 2015\n",
      "\n",
      "output_matches = []\n",
      "done_matches = []\n",
      "\n",
      "# get matches already done\n",
      "i_f = open(\"data/MLS_%d.csv\" % year)\n",
      "reader = csv.DictReader(i_f)\n",
      "\n",
      "for r in reader:\n",
      "    output_matches.append(r)\n",
      "    done_matches.append(r[\"Link\"])\n",
      "\n",
      "i_f.close()\n",
      "    \n",
      "print \"Found %d matches in old file\" % len(output_matches)    \n",
      "    \n",
      "req = requests.get(\"http://www.mlssoccer.com/results/%d\" % year)\n",
      "\n",
      "parser = BS(req.text, convertEntities=BS.HTML_ENTITIES)"
     ],
     "language": "python",
     "metadata": {},
     "outputs": [
      {
       "output_type": "stream",
       "stream": "stdout",
       "text": [
        "Found 220 matches in old file\n"
       ]
      }
     ],
     "prompt_number": 1
    },
    {
     "cell_type": "code",
     "collapsed": false,
     "input": [
      "#_rows = parser.find(\"table\", {\"class\":\"views-table game-record\"}).findAll(\"tr\")\n",
      "_rows = parser.find(\"div\", {\"class\":\"scroll-container\"}).find(\"table\").findAll(\"tr\")[1:]\n",
      "\n",
      "teams = set()\n",
      "matches = set()\n",
      "\n",
      "date_ptn = re.compile(\"^[A-Z,a-z]+, ([A-Z,a-z]+) ([0-9]{1,2})\")\n",
      "score_ptn = re.compile(\"vs (.+)([0-9]+) - ([0-9]+)\") \n",
      "\n",
      "for _r in _rows:\n",
      "    _team = _r.findAll(\"td\")[0].text\n",
      "    if len(_team):\n",
      "        print \"####### %s #######\" % _team\n",
      "        teams.add(_team)\n",
      "    else:\n",
      "        continue\n",
      "        \n",
      "    _m = _r.findAll(\"td\")[1:]\n",
      "\n",
      "    for i in _m:\n",
      "        link = i.find(\"a\").get(\"href\")\n",
      "        tx = i.find(\"span\").text\n",
      "        print tx\n",
      "        dt =  date_ptn.findall(tx)[0]\n",
      "        dt = datetime.strptime(\"%s %s %d\" % (dt[0],dt[1],year), \"%b %d %Y\")\n",
      "        #print dt\n",
      "        try:\n",
      "            ms = score_ptn.findall(tx)[0]\n",
      "            #print ms\n",
      "            _t = sorted([_team, ms[0]])\n",
      "            #print _t\n",
      "            match = (link, _t[0], _t[1], dt)\n",
      "        \n",
      "            matches.add(match)\n",
      "        except:\n",
      "            break\n",
      "        \n",
      "print teams\n",
      "    \n",
      "#_m = parser.findAll(\"a\", {\"class\" : \"tooltip\"})\n",
      "\n",
      "print len(matches)"
     ],
     "language": "python",
     "metadata": {},
     "outputs": [
      {
       "output_type": "stream",
       "stream": "stdout",
       "text": [
        "####### LFriday, March 6at LA Galaxy2-0 #######\n"
       ]
      },
      {
       "ename": "AttributeError",
       "evalue": "'NoneType' object has no attribute 'text'",
       "output_type": "pyerr",
       "traceback": [
        "\u001b[1;31m---------------------------------------------------------------------------\u001b[0m\n\u001b[1;31mAttributeError\u001b[0m                            Traceback (most recent call last)",
        "\u001b[1;32m<ipython-input-4-5c3c52e622ea>\u001b[0m in \u001b[0;36m<module>\u001b[1;34m()\u001b[0m\n\u001b[0;32m     20\u001b[0m     \u001b[1;32mfor\u001b[0m \u001b[0mi\u001b[0m \u001b[1;32min\u001b[0m \u001b[0m_m\u001b[0m\u001b[1;33m:\u001b[0m\u001b[1;33m\u001b[0m\u001b[0m\n\u001b[0;32m     21\u001b[0m         \u001b[0mlink\u001b[0m \u001b[1;33m=\u001b[0m \u001b[0mi\u001b[0m\u001b[1;33m.\u001b[0m\u001b[0mfind\u001b[0m\u001b[1;33m(\u001b[0m\u001b[1;34m\"a\"\u001b[0m\u001b[1;33m)\u001b[0m\u001b[1;33m.\u001b[0m\u001b[0mget\u001b[0m\u001b[1;33m(\u001b[0m\u001b[1;34m\"href\"\u001b[0m\u001b[1;33m)\u001b[0m\u001b[1;33m\u001b[0m\u001b[0m\n\u001b[1;32m---> 22\u001b[1;33m         \u001b[0mtx\u001b[0m \u001b[1;33m=\u001b[0m \u001b[0mi\u001b[0m\u001b[1;33m.\u001b[0m\u001b[0mfind\u001b[0m\u001b[1;33m(\u001b[0m\u001b[1;34m\"span\"\u001b[0m\u001b[1;33m)\u001b[0m\u001b[1;33m.\u001b[0m\u001b[0mtext\u001b[0m\u001b[1;33m\u001b[0m\u001b[0m\n\u001b[0m\u001b[0;32m     23\u001b[0m         \u001b[1;32mprint\u001b[0m \u001b[0mtx\u001b[0m\u001b[1;33m\u001b[0m\u001b[0m\n\u001b[0;32m     24\u001b[0m         \u001b[0mdt\u001b[0m \u001b[1;33m=\u001b[0m  \u001b[0mdate_ptn\u001b[0m\u001b[1;33m.\u001b[0m\u001b[0mfindall\u001b[0m\u001b[1;33m(\u001b[0m\u001b[0mtx\u001b[0m\u001b[1;33m)\u001b[0m\u001b[1;33m[\u001b[0m\u001b[1;36m0\u001b[0m\u001b[1;33m]\u001b[0m\u001b[1;33m\u001b[0m\u001b[0m\n",
        "\u001b[1;31mAttributeError\u001b[0m: 'NoneType' object has no attribute 'text'"
       ]
      }
     ],
     "prompt_number": 4
    },
    {
     "cell_type": "code",
     "collapsed": false,
     "input": [
      "def getStats(url):\n",
      "    ptn_1 = re.compile(\"<td>([0-9]+)</td><td>Attempts on Goal</td><td>([0-9]+)</td>\")\n",
      "    ptn_2 = re.compile(\"<td>([0-9]+)</td><td>Shots on Target</td><td>([0-9]+)</td>\")\n",
      "    new_url = os.path.join(os.path.dirname(url), 'stats')\n",
      "    print \"Opening\", new_url\n",
      "    r = requests.get(new_url)\n",
      "    time.sleep(1)\n",
      "    _a = ptn_1.findall(r.text)\n",
      "    _b = ptn_2.findall(r.text)\n",
      "    \n",
      "    print _a\n",
      "    print _b\n",
      "    return (_a[0],_b[0])\n",
      "    \n",
      "def getScore(url):\n",
      "    print \"Opening\", url\n",
      "    ptn = re.compile(\"([0-9]+) - ([0-9]+)\")\n",
      "    ptn_h = re.compile('<div class=\"home-team-title\">(.+)</div>')\n",
      "    ptn_a = re.compile('<div class=\"away-team-title\">(.+)</div>')\n",
      "    ptn_opta = re.compile(\"bootstrap = (.*);\")\n",
      "    r = requests.get(url)\n",
      "    time.sleep(1)\n",
      "    \n",
      "    opta =  ptn_opta.search(r.text)\n",
      "    if opta:\n",
      "        _dat = json.loads(opta.groups(1)[0])\n",
      "    \n",
      "        _a = _dat['match']['home']['name']['full']\n",
      "        _b = _dat['match']['away']['name']['full']\n",
      "        _c = (_dat['match']['score']['home'],_dat['match']['score']['away'])\n",
      "        _d = (_dat['clubStats']['home']['statistics'][\"total_scoring_att\"][\"statValue\"], _dat['clubStats']['away']['statistics'][\"total_scoring_att\"][\"statValue\"])\n",
      "        _e = (_dat['clubStats']['home']['statistics'][\"ontarget_scoring_att\"][\"statValue\"], _dat['clubStats']['away']['statistics'][\"ontarget_scoring_att\"][\"statValue\"])\n",
      "    \n",
      "    else:\n",
      "        _p = BS(r.text, convertEntities=BS.HTML_ENTITIES)\n",
      "        _t = _p.find(\"div\", {\"class\":\"mc-match\"}).text\n",
      "        _a = ptn_h.findall(r.text)[0]\n",
      "        _b = ptn_a.findall(r.text)[0]\n",
      "        _c = ptn.findall(_t)[0]\n",
      "        _d,_e = getStats(r.url)\n",
      "        \n",
      "    return ((_a,_b),_c,_d,_e)  \n",
      "\n"
     ],
     "language": "python",
     "metadata": {},
     "outputs": [],
     "prompt_number": 3
    },
    {
     "cell_type": "code",
     "collapsed": false,
     "input": [
      "def formatCSV(m):\n",
      "    _t,_r,_s,_st = getScore(m[0])\n",
      "    \n",
      "    dct = {}\n",
      "    \n",
      "    dct[\"Link\"] = m[0]\n",
      "    dct[\"Date\"] = m[3].strftime(\"%d/%m/%y\")\n",
      "    dct[\"HomeTeam\"] = _t[0]\n",
      "    dct[\"FTHG\"]     = int(_r[0])\n",
      "    dct[\"HS\"]       = int(_s[0])\n",
      "    dct[\"HST\"]      = int(_st[0])\n",
      "    dct[\"AwayTeam\"] = _t[1]\n",
      "    dct[\"FTAG\"]     = int(_r[1])\n",
      "    dct[\"AS\"]       = int(_s[1])\n",
      "    dct[\"AST\"]      = int(_st[1])\n",
      "    \n",
      "    if dct[\"FTHG\"] > dct[\"FTAG\"] :\n",
      "        dct[\"FTR\"] = \"H\"\n",
      "    elif dct[\"FTHG\"] < dct[\"FTAG\"] :\n",
      "        dct[\"FTR\"] = \"A\"\n",
      "    else:\n",
      "        dct[\"FTR\"] = \"D\"\n",
      "    \n",
      "    return dct\n",
      "    \n",
      "\n",
      "_aog = sorted(list(matches),key=lambda x:x[3])\n",
      "\n",
      "cnt = 0\n",
      "\n"
     ],
     "language": "python",
     "metadata": {},
     "outputs": [],
     "prompt_number": 4
    },
    {
     "cell_type": "code",
     "collapsed": false,
     "input": [
      "for m in _aog[cnt:]:\n",
      "    \n",
      "    if m[0] in done_matches:\n",
      "        continue\n",
      "    \n",
      "    d = formatCSV(m)\n",
      "    output_matches.append(d)\n",
      "    done_matches.append(d[\"Link\"])\n",
      "    cnt += 1\n",
      "    print  \"%d/%d\" % (cnt,len(_aog))\n",
      "\n",
      "output_matches.sort(key=lambda x:datetime.strptime(x[\"Date\"], \"%d/%m/%y\"))\n",
      "\n",
      "o_f = open(\"data/MLS_%d.csv\" % year, \"w+\")\n",
      "\n",
      "writer = csv.DictWriter(o_f,fieldnames=[\"Date\",\"HomeTeam\",\"AwayTeam\",\"FTHG\",\"FTAG\",\"FTR\",\"HS\",\"AS\",\"HST\",\"AST\",\"Link\"])\n",
      "\n",
      "writer.writeheader()\n",
      "\n",
      "\n",
      "for d in output_matches:\n",
      "    print d\n",
      "    writer.writerow(d)\n",
      "    \n",
      "print \"DONE\"\n",
      "\n",
      "o_f.close()"
     ],
     "language": "python",
     "metadata": {},
     "outputs": [
      {
       "output_type": "stream",
       "stream": "stdout",
       "text": [
        "Opening http://matchcenter.mlssoccer.com/matchcenter/791506\n",
        "1/220"
       ]
      },
      {
       "output_type": "stream",
       "stream": "stdout",
       "text": [
        "\n",
        "Opening http://matchcenter.mlssoccer.com/matchcenter/791508\n",
        "2/220"
       ]
      },
      {
       "output_type": "stream",
       "stream": "stdout",
       "text": [
        "\n",
        "Opening http://matchcenter.mlssoccer.com/matchcenter/791507\n",
        "3/220"
       ]
      },
      {
       "output_type": "stream",
       "stream": "stdout",
       "text": [
        "\n",
        "Opening http://matchcenter.mlssoccer.com/matchcenter/791509\n",
        "4/220"
       ]
      },
      {
       "output_type": "stream",
       "stream": "stdout",
       "text": [
        "\n",
        "Opening http://matchcenter.mlssoccer.com/matchcenter/791516\n",
        "5/220"
       ]
      },
      {
       "output_type": "stream",
       "stream": "stdout",
       "text": [
        "\n",
        "Opening http://matchcenter.mlssoccer.com/matchcenter/791512\n",
        "6/220"
       ]
      },
      {
       "output_type": "stream",
       "stream": "stdout",
       "text": [
        "\n",
        "Opening http://matchcenter.mlssoccer.com/matchcenter/791515\n",
        "7/220"
       ]
      },
      {
       "output_type": "stream",
       "stream": "stdout",
       "text": [
        "\n",
        "Opening http://matchcenter.mlssoccer.com/matchcenter/791510\n",
        "8/220"
       ]
      },
      {
       "output_type": "stream",
       "stream": "stdout",
       "text": [
        "\n",
        "Opening http://matchcenter.mlssoccer.com/matchcenter/791513\n",
        "9/220"
       ]
      },
      {
       "output_type": "stream",
       "stream": "stdout",
       "text": [
        "\n",
        "Opening http://matchcenter.mlssoccer.com/matchcenter/791511\n",
        "10/220"
       ]
      },
      {
       "output_type": "stream",
       "stream": "stdout",
       "text": [
        "\n",
        "Opening http://matchcenter.mlssoccer.com/matchcenter/791514\n",
        "11/220"
       ]
      },
      {
       "output_type": "stream",
       "stream": "stdout",
       "text": [
        "\n",
        "Opening http://matchcenter.mlssoccer.com/matchcenter/791518\n",
        "12/220"
       ]
      },
      {
       "output_type": "stream",
       "stream": "stdout",
       "text": [
        "\n",
        "Opening http://matchcenter.mlssoccer.com/matchcenter/791517\n",
        "13/220"
       ]
      },
      {
       "output_type": "stream",
       "stream": "stdout",
       "text": [
        "\n",
        "Opening http://matchcenter.mlssoccer.com/matchcenter/791519\n",
        "14/220"
       ]
      },
      {
       "output_type": "stream",
       "stream": "stdout",
       "text": [
        "\n",
        "Opening http://matchcenter.mlssoccer.com/matchcenter/791429\n",
        "15/220"
       ]
      },
      {
       "output_type": "stream",
       "stream": "stdout",
       "text": [
        "\n",
        "Opening http://matchcenter.mlssoccer.com/matchcenter/791521\n",
        "16/220"
       ]
      },
      {
       "output_type": "stream",
       "stream": "stdout",
       "text": [
        "\n",
        "Opening http://matchcenter.mlssoccer.com/matchcenter/791520\n",
        "17/220"
       ]
      },
      {
       "output_type": "stream",
       "stream": "stdout",
       "text": [
        "\n",
        "Opening http://matchcenter.mlssoccer.com/matchcenter/791522\n",
        "18/220"
       ]
      },
      {
       "output_type": "stream",
       "stream": "stdout",
       "text": [
        "\n",
        "Opening http://matchcenter.mlssoccer.com/matchcenter/791523\n",
        "19/220"
       ]
      },
      {
       "output_type": "stream",
       "stream": "stdout",
       "text": [
        "\n",
        "Opening http://matchcenter.mlssoccer.com/matchcenter/791528\n",
        "20/220"
       ]
      },
      {
       "output_type": "stream",
       "stream": "stdout",
       "text": [
        "\n",
        "Opening http://matchcenter.mlssoccer.com/matchcenter/791524\n",
        "21/220"
       ]
      },
      {
       "output_type": "stream",
       "stream": "stdout",
       "text": [
        "\n",
        "Opening http://matchcenter.mlssoccer.com/matchcenter/791529\n",
        "22/220"
       ]
      },
      {
       "output_type": "stream",
       "stream": "stdout",
       "text": [
        "\n",
        "Opening http://matchcenter.mlssoccer.com/matchcenter/791525\n",
        "23/220"
       ]
      },
      {
       "output_type": "stream",
       "stream": "stdout",
       "text": [
        "\n",
        "Opening http://matchcenter.mlssoccer.com/matchcenter/791527\n",
        "24/220"
       ]
      },
      {
       "output_type": "stream",
       "stream": "stdout",
       "text": [
        "\n",
        "Opening http://matchcenter.mlssoccer.com/matchcenter/791526\n",
        "25/220"
       ]
      },
      {
       "output_type": "stream",
       "stream": "stdout",
       "text": [
        "\n",
        "Opening http://matchcenter.mlssoccer.com/matchcenter/791530\n",
        "26/220"
       ]
      },
      {
       "output_type": "stream",
       "stream": "stdout",
       "text": [
        "\n",
        "Opening http://matchcenter.mlssoccer.com/matchcenter/791531\n",
        "27/220"
       ]
      },
      {
       "output_type": "stream",
       "stream": "stdout",
       "text": [
        "\n",
        "Opening http://matchcenter.mlssoccer.com/matchcenter/791537\n",
        "28/220"
       ]
      },
      {
       "output_type": "stream",
       "stream": "stdout",
       "text": [
        "\n",
        "Opening http://matchcenter.mlssoccer.com/matchcenter/791534\n",
        "29/220"
       ]
      },
      {
       "output_type": "stream",
       "stream": "stdout",
       "text": [
        "\n",
        "Opening http://matchcenter.mlssoccer.com/matchcenter/791536\n",
        "30/220"
       ]
      },
      {
       "output_type": "stream",
       "stream": "stdout",
       "text": [
        "\n",
        "Opening http://matchcenter.mlssoccer.com/matchcenter/791532\n",
        "31/220"
       ]
      },
      {
       "output_type": "stream",
       "stream": "stdout",
       "text": [
        "\n",
        "Opening http://matchcenter.mlssoccer.com/matchcenter/791538\n",
        "32/220"
       ]
      },
      {
       "output_type": "stream",
       "stream": "stdout",
       "text": [
        "\n",
        "Opening http://matchcenter.mlssoccer.com/matchcenter/791533\n",
        "33/220"
       ]
      },
      {
       "output_type": "stream",
       "stream": "stdout",
       "text": [
        "\n",
        "Opening http://matchcenter.mlssoccer.com/matchcenter/791535\n",
        "34/220"
       ]
      },
      {
       "output_type": "stream",
       "stream": "stdout",
       "text": [
        "\n",
        "Opening http://matchcenter.mlssoccer.com/matchcenter/791539\n",
        "35/220"
       ]
      },
      {
       "output_type": "stream",
       "stream": "stdout",
       "text": [
        "\n",
        "Opening http://matchcenter.mlssoccer.com/matchcenter/791542\n",
        "36/220"
       ]
      },
      {
       "output_type": "stream",
       "stream": "stdout",
       "text": [
        "\n",
        "Opening http://matchcenter.mlssoccer.com/matchcenter/791541\n",
        "37/220"
       ]
      },
      {
       "output_type": "stream",
       "stream": "stdout",
       "text": [
        "\n",
        "Opening http://matchcenter.mlssoccer.com/matchcenter/791543\n",
        "38/220"
       ]
      },
      {
       "output_type": "stream",
       "stream": "stdout",
       "text": [
        "\n",
        "Opening http://matchcenter.mlssoccer.com/matchcenter/791544\n",
        "39/220"
       ]
      },
      {
       "output_type": "stream",
       "stream": "stdout",
       "text": [
        "\n",
        "Opening http://matchcenter.mlssoccer.com/matchcenter/791545\n",
        "40/220"
       ]
      },
      {
       "output_type": "stream",
       "stream": "stdout",
       "text": [
        "\n",
        "Opening http://matchcenter.mlssoccer.com/matchcenter/791540\n",
        "41/220"
       ]
      },
      {
       "output_type": "stream",
       "stream": "stdout",
       "text": [
        "\n",
        "Opening http://matchcenter.mlssoccer.com/matchcenter/791547\n",
        "42/220"
       ]
      },
      {
       "output_type": "stream",
       "stream": "stdout",
       "text": [
        "\n",
        "Opening http://matchcenter.mlssoccer.com/matchcenter/791546\n",
        "43/220"
       ]
      },
      {
       "output_type": "stream",
       "stream": "stdout",
       "text": [
        "\n",
        "Opening http://matchcenter.mlssoccer.com/matchcenter/791548\n",
        "44/220"
       ]
      },
      {
       "output_type": "stream",
       "stream": "stdout",
       "text": [
        "\n",
        "Opening http://matchcenter.mlssoccer.com/matchcenter/791551\n",
        "45/220"
       ]
      },
      {
       "output_type": "stream",
       "stream": "stdout",
       "text": [
        "\n",
        "Opening http://matchcenter.mlssoccer.com/matchcenter/791555\n",
        "46/220"
       ]
      },
      {
       "output_type": "stream",
       "stream": "stdout",
       "text": [
        "\n",
        "Opening http://matchcenter.mlssoccer.com/matchcenter/791554\n",
        "47/220"
       ]
      },
      {
       "output_type": "stream",
       "stream": "stdout",
       "text": [
        "\n",
        "Opening http://matchcenter.mlssoccer.com/matchcenter/791549\n",
        "48/220"
       ]
      },
      {
       "output_type": "stream",
       "stream": "stdout",
       "text": [
        "\n",
        "Opening http://matchcenter.mlssoccer.com/matchcenter/791553\n",
        "49/220"
       ]
      },
      {
       "output_type": "stream",
       "stream": "stdout",
       "text": [
        "\n",
        "Opening http://matchcenter.mlssoccer.com/matchcenter/791550\n",
        "50/220"
       ]
      },
      {
       "output_type": "stream",
       "stream": "stdout",
       "text": [
        "\n",
        "Opening http://matchcenter.mlssoccer.com/matchcenter/791552\n",
        "51/220"
       ]
      },
      {
       "output_type": "stream",
       "stream": "stdout",
       "text": [
        "\n",
        "Opening http://matchcenter.mlssoccer.com/matchcenter/791556\n",
        "52/220"
       ]
      },
      {
       "output_type": "stream",
       "stream": "stdout",
       "text": [
        "\n",
        "Opening http://matchcenter.mlssoccer.com/matchcenter/791565\n",
        "53/220"
       ]
      },
      {
       "output_type": "stream",
       "stream": "stdout",
       "text": [
        "\n",
        "Opening http://matchcenter.mlssoccer.com/matchcenter/791563\n",
        "54/220"
       ]
      },
      {
       "output_type": "stream",
       "stream": "stdout",
       "text": [
        "\n",
        "Opening http://matchcenter.mlssoccer.com/matchcenter/791558\n",
        "55/220"
       ]
      },
      {
       "output_type": "stream",
       "stream": "stdout",
       "text": [
        "\n",
        "Opening http://matchcenter.mlssoccer.com/matchcenter/791559\n",
        "56/220"
       ]
      },
      {
       "output_type": "stream",
       "stream": "stdout",
       "text": [
        "\n",
        "Opening http://matchcenter.mlssoccer.com/matchcenter/791560\n",
        "57/220"
       ]
      },
      {
       "output_type": "stream",
       "stream": "stdout",
       "text": [
        "\n",
        "Opening http://matchcenter.mlssoccer.com/matchcenter/791562\n",
        "58/220"
       ]
      },
      {
       "output_type": "stream",
       "stream": "stdout",
       "text": [
        "\n",
        "Opening http://matchcenter.mlssoccer.com/matchcenter/791561\n",
        "59/220"
       ]
      },
      {
       "output_type": "stream",
       "stream": "stdout",
       "text": [
        "\n",
        "Opening http://matchcenter.mlssoccer.com/matchcenter/791566\n",
        "60/220"
       ]
      },
      {
       "output_type": "stream",
       "stream": "stdout",
       "text": [
        "\n",
        "Opening http://matchcenter.mlssoccer.com/matchcenter/791564\n",
        "61/220"
       ]
      },
      {
       "output_type": "stream",
       "stream": "stdout",
       "text": [
        "\n",
        "Opening http://matchcenter.mlssoccer.com/matchcenter/791567\n",
        "62/220"
       ]
      },
      {
       "output_type": "stream",
       "stream": "stdout",
       "text": [
        "\n",
        "Opening http://matchcenter.mlssoccer.com/matchcenter/791573\n",
        "63/220"
       ]
      },
      {
       "output_type": "stream",
       "stream": "stdout",
       "text": [
        "\n",
        "Opening http://matchcenter.mlssoccer.com/matchcenter/791571\n",
        "64/220"
       ]
      },
      {
       "output_type": "stream",
       "stream": "stdout",
       "text": [
        "\n",
        "Opening http://matchcenter.mlssoccer.com/matchcenter/791569\n",
        "65/220"
       ]
      },
      {
       "output_type": "stream",
       "stream": "stdout",
       "text": [
        "\n",
        "Opening http://matchcenter.mlssoccer.com/matchcenter/791572\n",
        "66/220"
       ]
      },
      {
       "output_type": "stream",
       "stream": "stdout",
       "text": [
        "\n",
        "Opening http://matchcenter.mlssoccer.com/matchcenter/791568\n",
        "67/220"
       ]
      },
      {
       "output_type": "stream",
       "stream": "stdout",
       "text": [
        "\n",
        "Opening http://matchcenter.mlssoccer.com/matchcenter/791570\n",
        "68/220"
       ]
      },
      {
       "output_type": "stream",
       "stream": "stdout",
       "text": [
        "\n",
        "Opening http://matchcenter.mlssoccer.com/matchcenter/791654\n",
        "69/220"
       ]
      },
      {
       "output_type": "stream",
       "stream": "stdout",
       "text": [
        "\n",
        "Opening http://matchcenter.mlssoccer.com/matchcenter/791576\n",
        "70/220"
       ]
      },
      {
       "output_type": "stream",
       "stream": "stdout",
       "text": [
        "\n",
        "Opening http://matchcenter.mlssoccer.com/matchcenter/791574\n",
        "71/220"
       ]
      },
      {
       "output_type": "stream",
       "stream": "stdout",
       "text": [
        "\n",
        "Opening http://matchcenter.mlssoccer.com/matchcenter/791575\n",
        "72/220"
       ]
      },
      {
       "output_type": "stream",
       "stream": "stdout",
       "text": [
        "\n",
        "Opening http://matchcenter.mlssoccer.com/matchcenter/791583\n",
        "73/220"
       ]
      },
      {
       "output_type": "stream",
       "stream": "stdout",
       "text": [
        "\n",
        "Opening http://matchcenter.mlssoccer.com/matchcenter/791577\n",
        "74/220"
       ]
      },
      {
       "output_type": "stream",
       "stream": "stdout",
       "text": [
        "\n",
        "Opening http://matchcenter.mlssoccer.com/matchcenter/791581\n",
        "75/220"
       ]
      },
      {
       "output_type": "stream",
       "stream": "stdout",
       "text": [
        "\n",
        "Opening http://matchcenter.mlssoccer.com/matchcenter/791582\n",
        "76/220"
       ]
      },
      {
       "output_type": "stream",
       "stream": "stdout",
       "text": [
        "\n",
        "Opening http://matchcenter.mlssoccer.com/matchcenter/791579\n",
        "77/220"
       ]
      },
      {
       "output_type": "stream",
       "stream": "stdout",
       "text": [
        "\n",
        "Opening http://matchcenter.mlssoccer.com/matchcenter/791580\n",
        "78/220"
       ]
      },
      {
       "output_type": "stream",
       "stream": "stdout",
       "text": [
        "\n",
        "Opening http://matchcenter.mlssoccer.com/matchcenter/791586\n",
        "79/220"
       ]
      },
      {
       "output_type": "stream",
       "stream": "stdout",
       "text": [
        "\n",
        "Opening http://matchcenter.mlssoccer.com/matchcenter/791584\n",
        "80/220"
       ]
      },
      {
       "output_type": "stream",
       "stream": "stdout",
       "text": [
        "\n",
        "Opening http://matchcenter.mlssoccer.com/matchcenter/791585\n",
        "81/220"
       ]
      },
      {
       "output_type": "stream",
       "stream": "stdout",
       "text": [
        "\n",
        "Opening http://matchcenter.mlssoccer.com/matchcenter/791588\n",
        "82/220"
       ]
      },
      {
       "output_type": "stream",
       "stream": "stdout",
       "text": [
        "\n",
        "Opening http://matchcenter.mlssoccer.com/matchcenter/791589\n",
        "83/220"
       ]
      },
      {
       "output_type": "stream",
       "stream": "stdout",
       "text": [
        "\n",
        "Opening http://matchcenter.mlssoccer.com/matchcenter/791587\n",
        "84/220"
       ]
      },
      {
       "output_type": "stream",
       "stream": "stdout",
       "text": [
        "\n",
        "Opening http://matchcenter.mlssoccer.com/matchcenter/791593\n",
        "85/220"
       ]
      },
      {
       "output_type": "stream",
       "stream": "stdout",
       "text": [
        "\n",
        "Opening http://matchcenter.mlssoccer.com/matchcenter/791592\n",
        "86/220"
       ]
      },
      {
       "output_type": "stream",
       "stream": "stdout",
       "text": [
        "\n",
        "Opening http://matchcenter.mlssoccer.com/matchcenter/791590\n",
        "87/220"
       ]
      },
      {
       "output_type": "stream",
       "stream": "stdout",
       "text": [
        "\n",
        "Opening http://matchcenter.mlssoccer.com/matchcenter/791591\n",
        "88/220"
       ]
      },
      {
       "output_type": "stream",
       "stream": "stdout",
       "text": [
        "\n",
        "Opening http://matchcenter.mlssoccer.com/matchcenter/791594\n",
        "89/220"
       ]
      },
      {
       "output_type": "stream",
       "stream": "stdout",
       "text": [
        "\n",
        "Opening http://matchcenter.mlssoccer.com/matchcenter/791595\n",
        "90/220"
       ]
      },
      {
       "output_type": "stream",
       "stream": "stdout",
       "text": [
        "\n",
        "Opening http://matchcenter.mlssoccer.com/matchcenter/791596\n",
        "91/220"
       ]
      },
      {
       "output_type": "stream",
       "stream": "stdout",
       "text": [
        "\n",
        "{'FTR': 'H', 'AST': '1', 'HS': '13', 'HomeTeam': 'LA Galaxy', 'FTHG': '2', 'AwayTeam': 'Chicago Fire', 'AS': '8', 'Link': 'http://matchcenter.mlssoccer.com/matchcenter/788511', 'HST': '5', 'Date': '06/03/15', 'FTAG': '0'}\n",
        "{'FTR': 'H', 'AST': '4', 'HS': '13', 'HomeTeam': 'D.C. United', 'FTHG': '1', 'AwayTeam': 'Montreal Impact', 'AS': '16', 'Link': 'http://matchcenter.mlssoccer.com/matchcenter/788512', 'HST': '3', 'Date': '07/03/15', 'FTAG': '0'}\n",
        "{'FTR': 'H', 'AST': '6', 'HS': '8', 'HomeTeam': 'Houston Dynamo', 'FTHG': '1', 'AwayTeam': 'Columbus Crew SC', 'AS': '18', 'Link': 'http://matchcenter.mlssoccer.com/matchcenter/788514', 'HST': '3', 'Date': '07/03/15', 'FTAG': '0'}\n",
        "{'FTR': 'D', 'AST': '0', 'HS': '16', 'HomeTeam': 'Philadelphia Union', 'FTHG': '0', 'AwayTeam': 'Colorado Rapids', 'AS': '2', 'Link': 'http://matchcenter.mlssoccer.com/matchcenter/788515', 'HST': '4', 'Date': '07/03/15', 'FTAG': '0'}\n",
        "{'FTR': 'H', 'AST': '2', 'HS': '11', 'HomeTeam': 'FC Dallas', 'FTHG': '1', 'AwayTeam': 'San Jose Earthquakes', 'AS': '9', 'Link': 'http://matchcenter.mlssoccer.com/matchcenter/788517', 'HST': '5', 'Date': '07/03/15', 'FTAG': '0'}\n",
        "{'FTR': 'D', 'AST': '2', 'HS': '18', 'HomeTeam': 'Portland Timbers', 'FTHG': '0', 'AwayTeam': 'Real Salt Lake', 'AS': '9', 'Link': 'http://matchcenter.mlssoccer.com/matchcenter/788516', 'HST': '6', 'Date': '07/03/15', 'FTAG': '0'}\n",
        "{'FTR': 'A', 'AST': '5', 'HS': '13', 'HomeTeam': 'Vancouver Whitecaps FC', 'FTHG': '1', 'AwayTeam': 'Toronto FC', 'AS': '15', 'Link': 'http://matchcenter.mlssoccer.com/matchcenter/788513', 'HST': '7', 'Date': '07/03/15', 'FTAG': '3'}\n",
        "{'FTR': 'D', 'AST': '4', 'HS': '18', 'HomeTeam': 'Sporting Kansas City', 'FTHG': '1', 'AwayTeam': 'New York Red Bulls', 'AS': '14', 'Link': 'http://matchcenter.mlssoccer.com/matchcenter/788519', 'HST': '4', 'Date': '08/03/15', 'FTAG': '1'}\n",
        "{'FTR': 'H', 'AST': '1', 'HS': '6', 'HomeTeam': 'Seattle Sounders FC', 'FTHG': '3', 'AwayTeam': 'New England Revolution', 'AS': '8', 'Link': 'http://matchcenter.mlssoccer.com/matchcenter/788520', 'HST': '3', 'Date': '08/03/15', 'FTAG': '0'}\n",
        "{'FTR': 'D', 'AST': '1', 'HS': '15', 'HomeTeam': 'Orlando City SC', 'FTHG': '1', 'AwayTeam': 'New York City FC', 'AS': '8', 'Link': 'http://matchcenter.mlssoccer.com/matchcenter/788518', 'HST': '4', 'Date': '08/03/15', 'FTAG': '1'}\n",
        "{'FTR': 'A', 'AST': '3', 'HS': '7', 'HomeTeam': 'Houston Dynamo', 'FTHG': '0', 'AwayTeam': 'Orlando City SC', 'AS': '8', 'Link': 'http://matchcenter.mlssoccer.com/matchcenter/791390', 'HST': '0', 'Date': '13/03/15', 'FTAG': '1'}\n",
        "{'FTR': 'D', 'AST': '4', 'HS': '13', 'HomeTeam': 'Real Salt Lake', 'FTHG': '3', 'AwayTeam': 'Philadelphia Union', 'AS': '10', 'Link': 'http://matchcenter.mlssoccer.com/matchcenter/788522', 'HST': '7', 'Date': '14/03/15', 'FTAG': '3'}\n",
        "{'FTR': 'H', 'AST': '3', 'HS': '21', 'HomeTeam': 'Columbus Crew SC', 'FTHG': '2', 'AwayTeam': 'Toronto FC', 'AS': '11', 'Link': 'http://matchcenter.mlssoccer.com/matchcenter/788523', 'HST': '7', 'Date': '14/03/15', 'FTAG': '0'}\n",
        "{'FTR': 'A', 'AST': '6', 'HS': '13', 'HomeTeam': 'Chicago Fire', 'FTHG': '0', 'AwayTeam': 'Vancouver Whitecaps FC', 'AS': '18', 'Link': 'http://matchcenter.mlssoccer.com/matchcenter/788521', 'HST': '4', 'Date': '14/03/15', 'FTAG': '1'}\n",
        "{'FTR': 'H', 'AST': '4', 'HS': '11', 'HomeTeam': 'FC Dallas', 'FTHG': '3', 'AwayTeam': 'Sporting Kansas City', 'AS': '11', 'Link': 'http://matchcenter.mlssoccer.com/matchcenter/791391', 'HST': '5', 'Date': '14/03/15', 'FTAG': '1'}\n",
        "{'FTR': 'A', 'AST': '5', 'HS': '12', 'HomeTeam': 'Seattle Sounders FC', 'FTHG': '2', 'AwayTeam': 'San Jose Earthquakes', 'AS': '12', 'Link': 'http://matchcenter.mlssoccer.com/matchcenter/791393', 'HST': '9', 'Date': '14/03/15', 'FTAG': '3'}\n",
        "{'FTR': 'D', 'AST': '4', 'HS': '8', 'HomeTeam': 'Portland Timbers', 'FTHG': '2', 'AwayTeam': 'LA Galaxy', 'AS': '13', 'Link': 'http://matchcenter.mlssoccer.com/matchcenter/791394', 'HST': '4', 'Date': '15/03/15', 'FTAG': '2'}\n",
        "{'FTR': 'H', 'AST': '1', 'HS': '20', 'HomeTeam': 'New York City FC', 'FTHG': '2', 'AwayTeam': 'New England Revolution', 'AS': '11', 'Link': 'http://matchcenter.mlssoccer.com/matchcenter/788524', 'HST': '9', 'Date': '15/03/15', 'FTAG': '0'}\n",
        "{'FTR': 'D', 'AST': '3', 'HS': '9', 'HomeTeam': 'LA Galaxy', 'FTHG': '1', 'AwayTeam': 'Houston Dynamo', 'AS': '6', 'Link': 'http://matchcenter.mlssoccer.com/matchcenter/791396', 'HST': '4', 'Date': '21/03/15', 'FTAG': '1'}\n",
        "{'FTR': 'D', 'AST': '2', 'HS': '21', 'HomeTeam': 'Colorado Rapids', 'FTHG': '0', 'AwayTeam': 'New York City FC', 'AS': '9', 'Link': 'http://matchcenter.mlssoccer.com/matchcenter/788526', 'HST': '7', 'Date': '21/03/15', 'FTAG': '0'}\n",
        "{'FTR': 'D', 'AST': '2', 'HS': '9', 'HomeTeam': 'New England Revolution', 'FTHG': '0', 'AwayTeam': 'Montreal Impact', 'AS': '7', 'Link': 'http://matchcenter.mlssoccer.com/matchcenter/788525', 'HST': '4', 'Date': '21/03/15', 'FTAG': '0'}\n",
        "{'FTR': 'D', 'AST': '3', 'HS': '16', 'HomeTeam': 'Sporting Kansas City', 'FTHG': '0', 'AwayTeam': 'Portland Timbers', 'AS': '7', 'Link': 'http://matchcenter.mlssoccer.com/matchcenter/791397', 'HST': '2', 'Date': '21/03/15', 'FTAG': '0'}\n",
        "{'FTR': 'A', 'AST': '4', 'HS': '12', 'HomeTeam': 'Philadelphia Union', 'FTHG': '0', 'AwayTeam': 'FC Dallas', 'AS': '11', 'Link': 'http://matchcenter.mlssoccer.com/matchcenter/791395', 'HST': '5', 'Date': '21/03/15', 'FTAG': '2'}\n",
        "{'FTR': 'A', 'AST': '4', 'HS': '12', 'HomeTeam': 'Orlando City SC', 'FTHG': '0', 'AwayTeam': 'Vancouver Whitecaps FC', 'AS': '10', 'Link': 'http://matchcenter.mlssoccer.com/matchcenter/791398', 'HST': '1', 'Date': '21/03/15', 'FTAG': '1'}\n",
        "{'FTR': 'H', 'AST': '5', 'HS': '16', 'HomeTeam': 'New York Red Bulls', 'FTHG': '2', 'AwayTeam': 'D.C. United', 'AS': '12', 'Link': 'http://matchcenter.mlssoccer.com/matchcenter/788527', 'HST': '7', 'Date': '22/03/15', 'FTAG': '0'}\n",
        "{'FTR': 'H', 'AST': '4', 'HS': '15', 'HomeTeam': 'San Jose Earthquakes', 'FTHG': '2', 'AwayTeam': 'Chicago Fire', 'AS': '12', 'Link': 'http://matchcenter.mlssoccer.com/matchcenter/788528', 'HST': '6', 'Date': '22/03/15', 'FTAG': '1'}\n",
        "{'FTR': 'H', 'AST': '5', 'HS': '13', 'HomeTeam': 'Vancouver Whitecaps FC', 'FTHG': '2', 'AwayTeam': 'Portland Timbers', 'AS': '15', 'Link': 'http://matchcenter.mlssoccer.com/matchcenter/791405', 'HST': '3', 'Date': '28/03/15', 'FTAG': '1'}\n",
        "{'FTR': 'H', 'AST': '3', 'HS': '20', 'HomeTeam': 'New England Revolution', 'FTHG': '2', 'AwayTeam': 'San Jose Earthquakes', 'AS': '10', 'Link': 'http://matchcenter.mlssoccer.com/matchcenter/791407', 'HST': '8', 'Date': '28/03/15', 'FTAG': '1'}\n",
        "{'FTR': 'D', 'AST': '0', 'HS': '4', 'HomeTeam': 'FC Dallas', 'FTHG': '0', 'AwayTeam': 'Seattle Sounders FC', 'AS': '7', 'Link': 'http://matchcenter.mlssoccer.com/matchcenter/791406', 'HST': '0', 'Date': '28/03/15', 'FTAG': '0'}\n",
        "{'FTR': 'D', 'AST': '3', 'HS': '11', 'HomeTeam': 'Houston Dynamo', 'FTHG': '0', 'AwayTeam': 'Colorado Rapids', 'AS': '6', 'Link': 'http://matchcenter.mlssoccer.com/matchcenter/791400', 'HST': '2', 'Date': '28/03/15', 'FTAG': '0'}\n",
        "{'FTR': 'D', 'AST': '3', 'HS': '9', 'HomeTeam': 'Montreal Impact', 'FTHG': '2', 'AwayTeam': 'Orlando City SC', 'AS': '8', 'Link': 'http://matchcenter.mlssoccer.com/matchcenter/788529', 'HST': '4', 'Date': '28/03/15', 'FTAG': '2'}\n",
        "{'FTR': 'A', 'AST': '5', 'HS': '15', 'HomeTeam': 'Columbus Crew SC', 'FTHG': '1', 'AwayTeam': 'New York Red Bulls', 'AS': '13', 'Link': 'http://matchcenter.mlssoccer.com/matchcenter/791403', 'HST': '4', 'Date': '28/03/15', 'FTAG': '2'}\n",
        "{'FTR': 'H', 'AST': '4', 'HS': '6', 'HomeTeam': 'D.C. United', 'FTHG': '1', 'AwayTeam': 'LA Galaxy', 'AS': '17', 'Link': 'http://matchcenter.mlssoccer.com/matchcenter/791402', 'HST': '3', 'Date': '28/03/15', 'FTAG': '0'}\n",
        "{'FTR': 'A', 'AST': '2', 'HS': '13', 'HomeTeam': 'New York City FC', 'FTHG': '0', 'AwayTeam': 'Sporting Kansas City', 'AS': '9', 'Link': 'http://matchcenter.mlssoccer.com/matchcenter/791401', 'HST': '3', 'Date': '28/03/15', 'FTAG': '1'}\n",
        "{'FTR': 'H', 'AST': '0', 'HS': '16', 'HomeTeam': 'Chicago Fire', 'FTHG': '1', 'AwayTeam': 'Philadelphia Union', 'AS': '7', 'Link': 'http://matchcenter.mlssoccer.com/matchcenter/791408', 'HST': '3', 'Date': '29/03/15', 'FTAG': '0'}\n",
        "{'FTR': 'H', 'AST': '6', 'HS': '11', 'HomeTeam': 'Real Salt Lake', 'FTHG': '2', 'AwayTeam': 'Toronto FC', 'AS': '8', 'Link': 'http://matchcenter.mlssoccer.com/matchcenter/791409', 'HST': '5', 'Date': '29/03/15', 'FTAG': '1'}\n",
        "{'FTR': 'A', 'AST': '5', 'HS': '17', 'HomeTeam': 'Orlando City SC', 'FTHG': '0', 'AwayTeam': 'D.C. United', 'AS': '11', 'Link': 'http://matchcenter.mlssoccer.com/matchcenter/791410', 'HST': '5', 'Date': '03/04/15', 'FTAG': '1'}\n",
        "{'FTR': 'H', 'AST': '3', 'HS': '12', 'HomeTeam': 'Portland Timbers', 'FTHG': '3', 'AwayTeam': 'FC Dallas', 'AS': '8', 'Link': 'http://matchcenter.mlssoccer.com/matchcenter/791411', 'HST': '6', 'Date': '04/04/15', 'FTAG': '1'}\n",
        "{'FTR': 'A', 'AST': '3', 'HS': '17', 'HomeTeam': 'Colorado Rapids', 'FTHG': '0', 'AwayTeam': 'New England Revolution', 'AS': '9', 'Link': 'http://matchcenter.mlssoccer.com/matchcenter/791415', 'HST': '5', 'Date': '04/04/15', 'FTAG': '2'}\n",
        "{'FTR': 'H', 'AST': '1', 'HS': '18', 'HomeTeam': 'Vancouver Whitecaps FC', 'FTHG': '2', 'AwayTeam': 'LA Galaxy', 'AS': '6', 'Link': 'http://matchcenter.mlssoccer.com/matchcenter/791413', 'HST': '9', 'Date': '04/04/15', 'FTAG': '0'}\n",
        "{'FTR': 'H', 'AST': '2', 'HS': '5', 'HomeTeam': 'Seattle Sounders FC', 'FTHG': '1', 'AwayTeam': 'Houston Dynamo', 'AS': '16', 'Link': 'http://matchcenter.mlssoccer.com/matchcenter/791412', 'HST': '2', 'Date': '04/04/15', 'FTAG': '0'}\n",
        "{'FTR': 'H', 'AST': '3', 'HS': '14', 'HomeTeam': 'Chicago Fire', 'FTHG': '3', 'AwayTeam': 'Toronto FC', 'AS': '11', 'Link': 'http://matchcenter.mlssoccer.com/matchcenter/791416', 'HST': '8', 'Date': '04/04/15', 'FTAG': '2'}\n",
        "{'FTR': 'H', 'AST': '5', 'HS': '14', 'HomeTeam': 'Sporting Kansas City', 'FTHG': '3', 'AwayTeam': 'Philadelphia Union', 'AS': '10', 'Link': 'http://matchcenter.mlssoccer.com/matchcenter/791417', 'HST': '6', 'Date': '05/04/15', 'FTAG': '2'}\n",
        "{'FTR': 'A', 'AST': '2', 'HS': '12', 'HomeTeam': 'San Jose Earthquakes', 'FTHG': '0', 'AwayTeam': 'Real Salt Lake', 'AS': '10', 'Link': 'http://matchcenter.mlssoccer.com/matchcenter/791418', 'HST': '3', 'Date': '05/04/15', 'FTAG': '1'}\n",
        "{'FTR': 'D', 'AST': '5', 'HS': '22', 'HomeTeam': 'Vancouver Whitecaps FC', 'FTHG': '2', 'AwayTeam': 'Columbus Crew SC', 'AS': '15', 'Link': 'http://matchcenter.mlssoccer.com/matchcenter/791419', 'HST': '8', 'Date': '08/04/15', 'FTAG': '2'}\n",
        "{'FTR': 'A', 'AST': '6', 'HS': '11', 'HomeTeam': 'FC Dallas', 'FTHG': '0', 'AwayTeam': 'Colorado Rapids', 'AS': '13', 'Link': 'http://matchcenter.mlssoccer.com/matchcenter/791420', 'HST': '3', 'Date': '10/04/15', 'FTAG': '4'}\n",
        "{'FTR': 'H', 'AST': '4', 'HS': '12', 'HomeTeam': 'Philadelphia Union', 'FTHG': '2', 'AwayTeam': 'New York City FC', 'AS': '7', 'Link': 'http://matchcenter.mlssoccer.com/matchcenter/791423', 'HST': '4', 'Date': '11/04/15', 'FTAG': '1'}\n",
        "{'FTR': 'D', 'AST': '0', 'HS': '5', 'HomeTeam': 'New England Revolution', 'FTHG': '0', 'AwayTeam': 'Columbus Crew SC', 'AS': '8', 'Link': 'http://matchcenter.mlssoccer.com/matchcenter/791421', 'HST': '3', 'Date': '11/04/15', 'FTAG': '0'}\n",
        "{'FTR': 'H', 'AST': '5', 'HS': '12', 'HomeTeam': 'Houston Dynamo', 'FTHG': '3', 'AwayTeam': 'Montreal Impact', 'AS': '14', 'Link': 'http://matchcenter.mlssoccer.com/matchcenter/791422', 'HST': '4', 'Date': '11/04/15', 'FTAG': '0'}\n",
        "{'FTR': 'D', 'AST': '0', 'HS': '12', 'HomeTeam': 'Sporting Kansas City', 'FTHG': '0', 'AwayTeam': 'Real Salt Lake', 'AS': '4', 'Link': 'http://matchcenter.mlssoccer.com/matchcenter/791425', 'HST': '1', 'Date': '11/04/15', 'FTAG': '0'}\n",
        "{'FTR': 'D', 'AST': '7', 'HS': '15', 'HomeTeam': 'D.C. United', 'FTHG': '2', 'AwayTeam': 'New York Red Bulls', 'AS': '12', 'Link': 'http://matchcenter.mlssoccer.com/matchcenter/791424', 'HST': '5', 'Date': '11/04/15', 'FTAG': '2'}\n",
        "{'FTR': 'H', 'AST': '0', 'HS': '12', 'HomeTeam': 'San Jose Earthquakes', 'FTHG': '1', 'AwayTeam': 'Vancouver Whitecaps FC', 'AS': '5', 'Link': 'http://matchcenter.mlssoccer.com/matchcenter/791426', 'HST': '4', 'Date': '11/04/15', 'FTAG': '0'}\n",
        "{'FTR': 'A', 'AST': '3', 'HS': '18', 'HomeTeam': 'Portland Timbers', 'FTHG': '0', 'AwayTeam': 'Orlando City SC', 'AS': '14', 'Link': 'http://matchcenter.mlssoccer.com/matchcenter/791427', 'HST': '4', 'Date': '12/04/15', 'FTAG': '2'}\n",
        "{'FTR': 'H', 'AST': '10', 'HS': '16', 'HomeTeam': 'LA Galaxy', 'FTHG': '1', 'AwayTeam': 'Seattle Sounders FC', 'AS': '14', 'Link': 'http://matchcenter.mlssoccer.com/matchcenter/791428', 'HST': '4', 'Date': '12/04/15', 'FTAG': '0'}\n",
        "{'FTR': 'D', 'AST': '7', 'HS': '17', 'HomeTeam': 'New York City FC', 'FTHG': '1', 'AwayTeam': 'Philadelphia Union', 'AS': '12', 'Link': 'http://matchcenter.mlssoccer.com/matchcenter/791430', 'HST': '5', 'Date': '16/04/15', 'FTAG': '1'}\n",
        "{'FTR': 'H', 'AST': '4', 'HS': '21', 'HomeTeam': 'New York Red Bulls', 'FTHG': '2', 'AwayTeam': 'San Jose Earthquakes', 'AS': '10', 'Link': 'http://matchcenter.mlssoccer.com/matchcenter/791431', 'HST': '8', 'Date': '17/04/15', 'FTAG': '0'}\n",
        "{'FTR': 'H', 'AST': '3', 'HS': '17', 'HomeTeam': 'Columbus Crew SC', 'FTHG': '3', 'AwayTeam': 'Orlando City SC', 'AS': '11', 'Link': 'http://matchcenter.mlssoccer.com/matchcenter/791435', 'HST': '9', 'Date': '18/04/15', 'FTAG': '0'}\n",
        "{'FTR': 'H', 'AST': '4', 'HS': '11', 'HomeTeam': 'FC Dallas', 'FTHG': '3', 'AwayTeam': 'Toronto FC', 'AS': '18', 'Link': 'http://matchcenter.mlssoccer.com/matchcenter/791437', 'HST': '5', 'Date': '18/04/15', 'FTAG': '2'}\n",
        "{'FTR': 'A', 'AST': '9', 'HS': '27', 'HomeTeam': 'Colorado Rapids', 'FTHG': '1', 'AwayTeam': 'Seattle Sounders FC', 'AS': '17', 'Link': 'http://matchcenter.mlssoccer.com/matchcenter/791436', 'HST': '9', 'Date': '18/04/15', 'FTAG': '3'}\n",
        "{'FTR': 'A', 'AST': '1', 'HS': '9', 'HomeTeam': 'Real Salt Lake', 'FTHG': '0', 'AwayTeam': 'Vancouver Whitecaps FC', 'AS': '9', 'Link': 'http://matchcenter.mlssoccer.com/matchcenter/791438', 'HST': '4', 'Date': '18/04/15', 'FTAG': '1'}\n",
        "{'FTR': 'H', 'AST': '2', 'HS': '9', 'HomeTeam': 'LA Galaxy', 'FTHG': '2', 'AwayTeam': 'Sporting Kansas City', 'AS': '10', 'Link': 'http://matchcenter.mlssoccer.com/matchcenter/791434', 'HST': '6', 'Date': '18/04/15', 'FTAG': '1'}\n",
        "{'FTR': 'D', 'AST': '5', 'HS': '15', 'HomeTeam': 'D.C. United', 'FTHG': '1', 'AwayTeam': 'Houston Dynamo', 'AS': '16', 'Link': 'http://matchcenter.mlssoccer.com/matchcenter/791433', 'HST': '7', 'Date': '18/04/15', 'FTAG': '1'}\n",
        "{'FTR': 'A', 'AST': '4', 'HS': '11', 'HomeTeam': 'Philadelphia Union', 'FTHG': '1', 'AwayTeam': 'New England Revolution', 'AS': '12', 'Link': 'http://matchcenter.mlssoccer.com/matchcenter/791439', 'HST': '5', 'Date': '19/04/15', 'FTAG': '2'}\n",
        "{'FTR': 'A', 'AST': '3', 'HS': '21', 'HomeTeam': 'New York City FC', 'FTHG': '0', 'AwayTeam': 'Portland Timbers', 'AS': '12', 'Link': 'http://matchcenter.mlssoccer.com/matchcenter/791440', 'HST': '5', 'Date': '19/04/15', 'FTAG': '1'}\n",
        "{'FTR': 'H', 'AST': '4', 'HS': '24', 'HomeTeam': 'Chicago Fire', 'FTHG': '1', 'AwayTeam': 'New York City FC', 'AS': '8', 'Link': 'http://matchcenter.mlssoccer.com/matchcenter/791442', 'HST': '7', 'Date': '24/04/15', 'FTAG': '0'}\n",
        "{'FTR': 'D', 'AST': '2', 'HS': '17', 'HomeTeam': 'Colorado Rapids', 'FTHG': '1', 'AwayTeam': 'FC Dallas', 'AS': '8', 'Link': 'http://matchcenter.mlssoccer.com/matchcenter/791441', 'HST': '5', 'Date': '24/04/15', 'FTAG': '1'}\n",
        "{'FTR': 'D', 'AST': '4', 'HS': '12', 'HomeTeam': 'Houston Dynamo', 'FTHG': '4', 'AwayTeam': 'Sporting Kansas City', 'AS': '17', 'Link': 'http://matchcenter.mlssoccer.com/matchcenter/791444', 'HST': '4', 'Date': '25/04/15', 'FTAG': '4'}\n",
        "{'FTR': 'A', 'AST': '6', 'HS': '16', 'HomeTeam': 'Vancouver Whitecaps FC', 'FTHG': '1', 'AwayTeam': 'D.C. United', 'AS': '8', 'Link': 'http://matchcenter.mlssoccer.com/matchcenter/791443', 'HST': '7', 'Date': '25/04/15', 'FTAG': '2'}\n",
        "{'FTR': 'H', 'AST': '2', 'HS': '10', 'HomeTeam': 'Columbus Crew SC', 'FTHG': '4', 'AwayTeam': 'Philadelphia Union', 'AS': '8', 'Link': 'http://matchcenter.mlssoccer.com/matchcenter/791446', 'HST': '4', 'Date': '25/04/15', 'FTAG': '1'}\n",
        "{'FTR': 'H', 'AST': '3', 'HS': '25', 'HomeTeam': 'New England Revolution', 'FTHG': '4', 'AwayTeam': 'Real Salt Lake', 'AS': '7', 'Link': 'http://matchcenter.mlssoccer.com/matchcenter/791447', 'HST': '13', 'Date': '25/04/15', 'FTAG': '0'}\n",
        "{'FTR': 'H', 'AST': '2', 'HS': '10', 'HomeTeam': 'Seattle Sounders FC', 'FTHG': '1', 'AwayTeam': 'Portland Timbers', 'AS': '11', 'Link': 'http://matchcenter.mlssoccer.com/matchcenter/791450', 'HST': '3', 'Date': '26/04/15', 'FTAG': '0'}\n",
        "{'FTR': 'A', 'AST': '4', 'HS': '10', 'HomeTeam': 'Orlando City SC', 'FTHG': '0', 'AwayTeam': 'Toronto FC', 'AS': '9', 'Link': 'http://matchcenter.mlssoccer.com/matchcenter/791449', 'HST': '4', 'Date': '26/04/15', 'FTAG': '2'}\n",
        "{'FTR': 'D', 'AST': '2', 'HS': '14', 'HomeTeam': 'New York Red Bulls', 'FTHG': '1', 'AwayTeam': 'LA Galaxy', 'AS': '8', 'Link': 'http://matchcenter.mlssoccer.com/matchcenter/791448', 'HST': '3', 'Date': '26/04/15', 'FTAG': '1'}\n",
        "{'FTR': 'D', 'AST': '3', 'HS': '20', 'HomeTeam': 'New York Red Bulls', 'FTHG': '1', 'AwayTeam': 'Colorado Rapids', 'AS': '10', 'Link': 'http://matchcenter.mlssoccer.com/matchcenter/791578', 'HST': '5', 'Date': '29/04/15', 'FTAG': '1'}\n",
        "{'FTR': 'D', 'AST': '2', 'HS': '7', 'HomeTeam': 'Real Salt Lake', 'FTHG': '1', 'AwayTeam': 'San Jose Earthquakes', 'AS': '8', 'Link': 'http://matchcenter.mlssoccer.com/matchcenter/791452', 'HST': '0', 'Date': '01/05/15', 'FTAG': '1'}\n",
        "{'FTR': 'A', 'AST': '5', 'HS': '13', 'HomeTeam': 'Houston Dynamo', 'FTHG': '1', 'AwayTeam': 'FC Dallas', 'AS': '6', 'Link': 'http://matchcenter.mlssoccer.com/matchcenter/791451', 'HST': '2', 'Date': '01/05/15', 'FTAG': '4'}\n",
        "{'FTR': 'D', 'AST': '2', 'HS': '9', 'HomeTeam': 'LA Galaxy', 'FTHG': '1', 'AwayTeam': 'Colorado Rapids', 'AS': '5', 'Link': 'http://matchcenter.mlssoccer.com/matchcenter/791453', 'HST': '3', 'Date': '02/05/15', 'FTAG': '1'}\n",
        "{'FTR': 'A', 'AST': '3', 'HS': '9', 'HomeTeam': 'Philadelphia Union', 'FTHG': '0', 'AwayTeam': 'Toronto FC', 'AS': '11', 'Link': 'http://matchcenter.mlssoccer.com/matchcenter/791456', 'HST': '1', 'Date': '02/05/15', 'FTAG': '1'}\n",
        "{'FTR': 'D', 'AST': '2', 'HS': '13', 'HomeTeam': 'Portland Timbers', 'FTHG': '0', 'AwayTeam': 'Vancouver Whitecaps FC', 'AS': '7', 'Link': 'http://matchcenter.mlssoccer.com/matchcenter/791457', 'HST': '1', 'Date': '02/05/15', 'FTAG': '0'}\n",
        "{'FTR': 'H', 'AST': '3', 'HS': '10', 'HomeTeam': 'D.C. United', 'FTHG': '2', 'AwayTeam': 'Columbus Crew SC', 'AS': '15', 'Link': 'http://matchcenter.mlssoccer.com/matchcenter/791454', 'HST': '5', 'Date': '02/05/15', 'FTAG': '0'}\n",
        "{'FTR': 'H', 'AST': '3', 'HS': '7', 'HomeTeam': 'New England Revolution', 'FTHG': '2', 'AwayTeam': 'New York Red Bulls', 'AS': '10', 'Link': 'http://matchcenter.mlssoccer.com/matchcenter/791455', 'HST': '2', 'Date': '02/05/15', 'FTAG': '1'}\n",
        "{'FTR': 'H', 'AST': '3', 'HS': '14', 'HomeTeam': 'Sporting Kansas City', 'FTHG': '1', 'AwayTeam': 'Chicago Fire', 'AS': '11', 'Link': 'http://matchcenter.mlssoccer.com/matchcenter/791458', 'HST': '3', 'Date': '03/05/15', 'FTAG': '0'}\n",
        "{'FTR': 'A', 'AST': '7', 'HS': '20', 'HomeTeam': 'New York City FC', 'FTHG': '1', 'AwayTeam': 'Seattle Sounders FC', 'AS': '11', 'Link': 'http://matchcenter.mlssoccer.com/matchcenter/791459', 'HST': '9', 'Date': '03/05/15', 'FTAG': '3'}\n",
        "{'FTR': 'A', 'AST': '2', 'HS': '14', 'HomeTeam': 'Houston Dynamo', 'FTHG': '0', 'AwayTeam': 'San Jose Earthquakes', 'AS': '12', 'Link': 'http://matchcenter.mlssoccer.com/matchcenter/791460', 'HST': '3', 'Date': '05/05/15', 'FTAG': '1'}\n",
        "{'FTR': 'D', 'AST': '3', 'HS': '11', 'HomeTeam': 'Real Salt Lake', 'FTHG': '0', 'AwayTeam': 'LA Galaxy', 'AS': '9', 'Link': 'http://matchcenter.mlssoccer.com/matchcenter/791461', 'HST': '6', 'Date': '06/05/15', 'FTAG': '0'}\n",
        "{'FTR': 'D', 'AST': '4', 'HS': '18', 'HomeTeam': 'Colorado Rapids', 'FTHG': '1', 'AwayTeam': 'San Jose Earthquakes', 'AS': '10', 'Link': 'http://matchcenter.mlssoccer.com/matchcenter/791463', 'HST': '6', 'Date': '08/05/15', 'FTAG': '1'}\n",
        "{'FTR': 'D', 'AST': '2', 'HS': '12', 'HomeTeam': 'Orlando City SC', 'FTHG': '2', 'AwayTeam': 'New England Revolution', 'AS': '8', 'Link': 'http://matchcenter.mlssoccer.com/matchcenter/791462', 'HST': '2', 'Date': '08/05/15', 'FTAG': '2'}\n",
        "{'FTR': 'H', 'AST': '6', 'HS': '25', 'HomeTeam': 'Columbus Crew SC', 'FTHG': '3', 'AwayTeam': 'Seattle Sounders FC', 'AS': '12', 'Link': 'http://matchcenter.mlssoccer.com/matchcenter/791469', 'HST': '13', 'Date': '09/05/15', 'FTAG': '2'}\n",
        "{'FTR': 'A', 'AST': '2', 'HS': '14', 'HomeTeam': 'Chicago Fire', 'FTHG': '1', 'AwayTeam': 'Real Salt Lake', 'AS': '5', 'Link': 'http://matchcenter.mlssoccer.com/matchcenter/791468', 'HST': '3', 'Date': '09/05/15', 'FTAG': '2'}\n",
        "{'FTR': 'A', 'AST': '9', 'HS': '19', 'HomeTeam': 'Montreal Impact', 'FTHG': '1', 'AwayTeam': 'Portland Timbers', 'AS': '15', 'Link': 'http://matchcenter.mlssoccer.com/matchcenter/791467', 'HST': '5', 'Date': '09/05/15', 'FTAG': '2'}\n",
        "{'FTR': 'D', 'AST': '5', 'HS': '7', 'HomeTeam': 'D.C. United', 'FTHG': '1', 'AwayTeam': 'Sporting Kansas City', 'AS': '11', 'Link': 'http://matchcenter.mlssoccer.com/matchcenter/791464', 'HST': '2', 'Date': '09/05/15', 'FTAG': '1'}\n",
        "{'FTR': 'H', 'AST': '3', 'HS': '11', 'HomeTeam': 'FC Dallas', 'FTHG': '2', 'AwayTeam': 'LA Galaxy', 'AS': '5', 'Link': 'http://matchcenter.mlssoccer.com/matchcenter/791465', 'HST': '7', 'Date': '09/05/15', 'FTAG': '1'}\n",
        "{'FTR': 'H', 'AST': '2', 'HS': '18', 'HomeTeam': 'Vancouver Whitecaps FC', 'FTHG': '3', 'AwayTeam': 'Philadelphia Union', 'AS': '9', 'Link': 'http://matchcenter.mlssoccer.com/matchcenter/791466', 'HST': '10', 'Date': '09/05/15', 'FTAG': '0'}\n",
        "{'FTR': 'H', 'AST': '2', 'HS': '14', 'HomeTeam': 'New York Red Bulls', 'FTHG': '2', 'AwayTeam': 'New York City FC', 'AS': '10', 'Link': 'http://matchcenter.mlssoccer.com/matchcenter/791470', 'HST': '7', 'Date': '10/05/15', 'FTAG': '1'}\n",
        "{'FTR': 'A', 'AST': '5', 'HS': '22', 'HomeTeam': 'Toronto FC', 'FTHG': '1', 'AwayTeam': 'Houston Dynamo', 'AS': '17', 'Link': 'http://matchcenter.mlssoccer.com/matchcenter/788530', 'HST': '4', 'Date': '10/05/15', 'FTAG': '2'}\n",
        "{'FTR': 'H', 'AST': '1', 'HS': '11', 'HomeTeam': 'D.C. United', 'FTHG': '2', 'AwayTeam': 'Orlando City SC', 'AS': '7', 'Link': 'http://matchcenter.mlssoccer.com/matchcenter/791471', 'HST': '3', 'Date': '13/05/15', 'FTAG': '1'}\n",
        "{'FTR': 'D', 'AST': '9', 'HS': '11', 'HomeTeam': 'New York City FC', 'FTHG': '2', 'AwayTeam': 'Chicago Fire', 'AS': '23', 'Link': 'http://matchcenter.mlssoccer.com/matchcenter/791472', 'HST': '5', 'Date': '15/05/15', 'FTAG': '2'}\n",
        "{'FTR': 'D', 'AST': '3', 'HS': '13', 'HomeTeam': 'FC Dallas', 'FTHG': '0', 'AwayTeam': 'New York Red Bulls', 'AS': '14', 'Link': 'http://matchcenter.mlssoccer.com/matchcenter/791473', 'HST': '3', 'Date': '15/05/15', 'FTAG': '0'}\n",
        "{'FTR': 'A', 'AST': '4', 'HS': '16', 'HomeTeam': 'Vancouver Whitecaps FC', 'FTHG': '0', 'AwayTeam': 'Seattle Sounders FC', 'AS': '7', 'Link': 'http://matchcenter.mlssoccer.com/matchcenter/791478', 'HST': '5', 'Date': '16/05/15', 'FTAG': '2'}\n",
        "{'FTR': 'H', 'AST': '1', 'HS': '12', 'HomeTeam': 'Houston Dynamo', 'FTHG': '3', 'AwayTeam': 'Portland Timbers', 'AS': '6', 'Link': 'http://matchcenter.mlssoccer.com/matchcenter/791476', 'HST': '6', 'Date': '16/05/15', 'FTAG': '1'}\n",
        "{'FTR': 'H', 'AST': '5', 'HS': '15', 'HomeTeam': 'San Jose Earthquakes', 'FTHG': '2', 'AwayTeam': 'Columbus Crew SC', 'AS': '8', 'Link': 'http://matchcenter.mlssoccer.com/matchcenter/791475', 'HST': '8', 'Date': '16/05/15', 'FTAG': '0'}\n",
        "{'FTR': 'H', 'AST': '5', 'HS': '15', 'HomeTeam': 'Montreal Impact', 'FTHG': '4', 'AwayTeam': 'Real Salt Lake', 'AS': '10', 'Link': 'http://matchcenter.mlssoccer.com/matchcenter/791477', 'HST': '9', 'Date': '16/05/15', 'FTAG': '1'}\n",
        "{'FTR': 'D', 'AST': '7', 'HS': '16', 'HomeTeam': 'New England Revolution', 'FTHG': '1', 'AwayTeam': 'Toronto FC', 'AS': '9', 'Link': 'http://matchcenter.mlssoccer.com/matchcenter/791479', 'HST': '8', 'Date': '16/05/15', 'FTAG': '1'}\n",
        "{'FTR': 'H', 'AST': '0', 'HS': '14', 'HomeTeam': 'Philadelphia Union', 'FTHG': '1', 'AwayTeam': 'D.C. United', 'AS': '5', 'Link': 'http://matchcenter.mlssoccer.com/matchcenter/791480', 'HST': '6', 'Date': '17/05/15', 'FTAG': '0'}\n",
        "{'FTR': 'H', 'AST': '1', 'HS': '11', 'HomeTeam': 'Orlando City SC', 'FTHG': '4', 'AwayTeam': 'LA Galaxy', 'AS': '10', 'Link': 'http://matchcenter.mlssoccer.com/matchcenter/791481', 'HST': '7', 'Date': '17/05/15', 'FTAG': '0'}\n",
        "{'FTR': 'H', 'AST': '4', 'HS': '15', 'HomeTeam': 'Sporting Kansas City', 'FTHG': '4', 'AwayTeam': 'New England Revolution', 'AS': '11', 'Link': 'http://matchcenter.mlssoccer.com/matchcenter/791482', 'HST': '7', 'Date': '20/05/15', 'FTAG': '2'}\n",
        "{'FTR': 'H', 'AST': '2', 'HS': '13', 'HomeTeam': 'LA Galaxy', 'FTHG': '1', 'AwayTeam': 'Houston Dynamo', 'AS': '9', 'Link': 'http://matchcenter.mlssoccer.com/matchcenter/791484', 'HST': '2', 'Date': '22/05/15', 'FTAG': '0'}\n",
        "{'FTR': 'D', 'AST': '4', 'HS': '9', 'HomeTeam': 'Columbus Crew SC', 'FTHG': '2', 'AwayTeam': 'Chicago Fire', 'AS': '18', 'Link': 'http://matchcenter.mlssoccer.com/matchcenter/791483', 'HST': '4', 'Date': '22/05/15', 'FTAG': '2'}\n",
        "{'FTR': 'H', 'AST': '1', 'HS': '12', 'HomeTeam': 'Real Salt Lake', 'FTHG': '2', 'AwayTeam': 'New York City FC', 'AS': '12', 'Link': 'http://matchcenter.mlssoccer.com/matchcenter/791489', 'HST': '6', 'Date': '23/05/15', 'FTAG': '0'}\n",
        "{'FTR': 'D', 'AST': '1', 'HS': '9', 'HomeTeam': 'New England Revolution', 'FTHG': '1', 'AwayTeam': 'D.C. United', 'AS': '7', 'Link': 'http://matchcenter.mlssoccer.com/matchcenter/791487', 'HST': '3', 'Date': '23/05/15', 'FTAG': '1'}\n",
        "{'FTR': 'H', 'AST': '8', 'HS': '12', 'HomeTeam': 'Montreal Impact', 'FTHG': '2', 'AwayTeam': 'FC Dallas', 'AS': '21', 'Link': 'http://matchcenter.mlssoccer.com/matchcenter/791486', 'HST': '3', 'Date': '23/05/15', 'FTAG': '1'}\n",
        "{'FTR': 'H', 'AST': '4', 'HS': '10', 'HomeTeam': 'Colorado Rapids', 'FTHG': '1', 'AwayTeam': 'Vancouver Whitecaps FC', 'AS': '13', 'Link': 'http://matchcenter.mlssoccer.com/matchcenter/791485', 'HST': '5', 'Date': '23/05/15', 'FTAG': '0'}\n",
        "{'FTR': 'H', 'AST': '5', 'HS': '13', 'HomeTeam': 'Toronto FC', 'FTHG': '1', 'AwayTeam': 'Portland Timbers', 'AS': '11', 'Link': 'http://matchcenter.mlssoccer.com/matchcenter/791490', 'HST': '6', 'Date': '23/05/15', 'FTAG': '0'}\n",
        "{'FTR': 'D', 'AST': '3', 'HS': '10', 'HomeTeam': 'Seattle Sounders FC', 'FTHG': '0', 'AwayTeam': 'Sporting Kansas City', 'AS': '9', 'Link': 'http://matchcenter.mlssoccer.com/matchcenter/791488', 'HST': '1', 'Date': '23/05/15', 'FTAG': '0'}\n",
        "{'FTR': 'A', 'AST': '3', 'HS': '15', 'HomeTeam': 'New York Red Bulls', 'FTHG': '0', 'AwayTeam': 'Philadelphia Union', 'AS': '7', 'Link': 'http://matchcenter.mlssoccer.com/matchcenter/791492', 'HST': '3', 'Date': '24/05/15', 'FTAG': '2'}\n",
        "{'FTR': 'D', 'AST': '3', 'HS': '10', 'HomeTeam': 'San Jose Earthquakes', 'FTHG': '1', 'AwayTeam': 'Orlando City SC', 'AS': '6', 'Link': 'http://matchcenter.mlssoccer.com/matchcenter/791491', 'HST': '4', 'Date': '24/05/15', 'FTAG': '1'}\n",
        "{'FTR': 'H', 'AST': '1', 'HS': '12', 'HomeTeam': 'LA Galaxy', 'FTHG': '1', 'AwayTeam': 'Real Salt Lake', 'AS': '10', 'Link': 'http://matchcenter.mlssoccer.com/matchcenter/791495', 'HST': '3', 'Date': '27/05/15', 'FTAG': '0'}\n",
        "{'FTR': 'H', 'AST': '4', 'HS': '15', 'HomeTeam': 'Seattle Sounders FC', 'FTHG': '1', 'AwayTeam': 'Colorado Rapids', 'AS': '16', 'Link': 'http://matchcenter.mlssoccer.com/matchcenter/791493', 'HST': '5', 'Date': '27/05/15', 'FTAG': '0'}\n",
        "{'FTR': 'H', 'AST': '2', 'HS': '16', 'HomeTeam': 'Portland Timbers', 'FTHG': '1', 'AwayTeam': 'D.C. United', 'AS': '11', 'Link': 'http://matchcenter.mlssoccer.com/matchcenter/791494', 'HST': '9', 'Date': '27/05/15', 'FTAG': '0'}\n",
        "{'FTR': 'H', 'AST': '1', 'HS': '12', 'HomeTeam': 'Sporting Kansas City', 'FTHG': '4', 'AwayTeam': 'FC Dallas', 'AS': '5', 'Link': 'http://matchcenter.mlssoccer.com/matchcenter/791496', 'HST': '6', 'Date': '29/05/15', 'FTAG': '0'}\n",
        "{'FTR': 'H', 'AST': '0', 'HS': '20', 'HomeTeam': 'Chicago Fire', 'FTHG': '3', 'AwayTeam': 'Montreal Impact', 'AS': '3', 'Link': 'http://matchcenter.mlssoccer.com/matchcenter/791499', 'HST': '11', 'Date': '30/05/15', 'FTAG': '0'}\n",
        "{'FTR': 'H', 'AST': '5', 'HS': '11', 'HomeTeam': 'D.C. United', 'FTHG': '2', 'AwayTeam': 'Philadelphia Union', 'AS': '14', 'Link': 'http://matchcenter.mlssoccer.com/matchcenter/791500', 'HST': '5', 'Date': '30/05/15', 'FTAG': '1'}\n",
        "{'FTR': 'D', 'AST': '6', 'HS': '24', 'HomeTeam': 'Orlando City SC', 'FTHG': '2', 'AwayTeam': 'Columbus Crew SC', 'AS': '9', 'Link': 'http://matchcenter.mlssoccer.com/matchcenter/791497', 'HST': '9', 'Date': '30/05/15', 'FTAG': '2'}\n",
        "{'FTR': 'H', 'AST': '2', 'HS': '14', 'HomeTeam': 'Toronto FC', 'FTHG': '3', 'AwayTeam': 'San Jose Earthquakes', 'AS': '17', 'Link': 'http://matchcenter.mlssoccer.com/matchcenter/791503', 'HST': '8', 'Date': '30/05/15', 'FTAG': '1'}\n",
        "{'FTR': 'D', 'AST': '4', 'HS': '13', 'HomeTeam': 'New York City FC', 'FTHG': '1', 'AwayTeam': 'Houston Dynamo', 'AS': '15', 'Link': 'http://matchcenter.mlssoccer.com/matchcenter/791498', 'HST': '7', 'Date': '30/05/15', 'FTAG': '1'}\n",
        "{'FTR': 'A', 'AST': '8', 'HS': '15', 'HomeTeam': 'Colorado Rapids', 'FTHG': '1', 'AwayTeam': 'Portland Timbers', 'AS': '20', 'Link': 'http://matchcenter.mlssoccer.com/matchcenter/791501', 'HST': '3', 'Date': '30/05/15', 'FTAG': '2'}\n",
        "{'FTR': 'H', 'AST': '4', 'HS': '20', 'HomeTeam': 'Vancouver Whitecaps FC', 'FTHG': '2', 'AwayTeam': 'Real Salt Lake', 'AS': '12', 'Link': 'http://matchcenter.mlssoccer.com/matchcenter/791502', 'HST': '8', 'Date': '30/05/15', 'FTAG': '1'}\n",
        "{'FTR': 'H', 'AST': '5', 'HS': '11', 'HomeTeam': 'Seattle Sounders FC', 'FTHG': '2', 'AwayTeam': 'New York Red Bulls', 'AS': '13', 'Link': 'http://matchcenter.mlssoccer.com/matchcenter/791505', 'HST': '3', 'Date': '31/05/15', 'FTAG': '1'}\n",
        "{'FTR': 'D', 'AST': '3', 'HS': '11', 'HomeTeam': 'New England Revolution', 'FTHG': '2', 'AwayTeam': 'LA Galaxy', 'AS': '12', 'Link': 'http://matchcenter.mlssoccer.com/matchcenter/791504', 'HST': '3', 'Date': '31/05/15', 'FTAG': '2'}\n",
        "{'FTR': 'H', 'AST': 7, 'HS': 17, 'HomeTeam': u'D.C. United', 'FTHG': 3, 'AwayTeam': u'Chicago Fire', 'AS': 10, 'Link': u'http://matchcenter.mlssoccer.com/matchcenter/791506', 'HST': 7, 'Date': '03/06/15', 'FTAG': 1}\n",
        "{'FTR': 'H', 'AST': 5, 'HS': 15, 'HomeTeam': u'Montreal Impact', 'FTHG': 2, 'AwayTeam': u'Vancouver Whitecaps FC', 'AS': 20, 'Link': u'http://matchcenter.mlssoccer.com/matchcenter/791508', 'HST': 7, 'Date': '03/06/15', 'FTAG': 1}\n",
        "{'FTR': 'H', 'AST': 2, 'HS': 10, 'HomeTeam': u'Philadelphia Union', 'FTHG': 3, 'AwayTeam': u'Columbus Crew SC', 'AS': 12, 'Link': u'http://matchcenter.mlssoccer.com/matchcenter/791507', 'HST': 5, 'Date': '03/06/15', 'FTAG': 0}\n",
        "{'FTR': 'H', 'AST': 5, 'HS': 15, 'HomeTeam': u'Houston Dynamo', 'FTHG': 4, 'AwayTeam': u'New York Red Bulls', 'AS': 9, 'Link': u'http://matchcenter.mlssoccer.com/matchcenter/791509', 'HST': 5, 'Date': '05/06/15', 'FTAG': 2}\n",
        "{'FTR': 'A', 'AST': 1, 'HS': 8, 'HomeTeam': u'LA Galaxy', 'FTHG': 0, 'AwayTeam': u'Vancouver Whitecaps FC', 'AS': 7, 'Link': u'http://matchcenter.mlssoccer.com/matchcenter/791516', 'HST': 0, 'Date': '06/06/15', 'FTAG': 1}\n",
        "{'FTR': 'A', 'AST': 5, 'HS': 12, 'HomeTeam': u'Philadelphia Union', 'FTHG': 1, 'AwayTeam': u'New York City FC', 'AS': 12, 'Link': u'http://matchcenter.mlssoccer.com/matchcenter/791512', 'HST': 7, 'Date': '06/06/15', 'FTAG': 2}\n",
        "{'FTR': 'A', 'AST': 7, 'HS': 15, 'HomeTeam': u'D.C. United', 'FTHG': 1, 'AwayTeam': u'Toronto FC', 'AS': 15, 'Link': u'http://matchcenter.mlssoccer.com/matchcenter/791515', 'HST': 2, 'Date': '06/06/15', 'FTAG': 2}\n",
        "{'FTR': 'A', 'AST': 6, 'HS': 20, 'HomeTeam': u'Columbus Crew SC', 'FTHG': 1, 'AwayTeam': u'Montreal Impact', 'AS': 9, 'Link': u'http://matchcenter.mlssoccer.com/matchcenter/791510', 'HST': 4, 'Date': '06/06/15', 'FTAG': 2}\n",
        "{'FTR': 'A', 'AST': 4, 'HS': 19, 'HomeTeam': u'Chicago Fire', 'FTHG': 2, 'AwayTeam': u'Orlando City SC', 'AS': 11, 'Link': u'http://matchcenter.mlssoccer.com/matchcenter/791513', 'HST': 6, 'Date': '06/06/15', 'FTAG': 3}\n",
        "{'FTR': 'H', 'AST': 3, 'HS': 19, 'HomeTeam': u'Portland Timbers', 'FTHG': 2, 'AwayTeam': u'New England Revolution', 'AS': 4, 'Link': u'http://matchcenter.mlssoccer.com/matchcenter/791511', 'HST': 5, 'Date': '06/06/15', 'FTAG': 0}\n",
        "{'FTR': 'H', 'AST': 6, 'HS': 16, 'HomeTeam': u'Sporting Kansas City', 'FTHG': 1, 'AwayTeam': u'Seattle Sounders FC', 'AS': 6, 'Link': u'http://matchcenter.mlssoccer.com/matchcenter/791514', 'HST': 4, 'Date': '06/06/15', 'FTAG': 0}\n",
        "{'FTR': 'D', 'AST': 2, 'HS': 10, 'HomeTeam': u'San Jose Earthquakes', 'FTHG': 0, 'AwayTeam': u'FC Dallas', 'AS': 10, 'Link': u'http://matchcenter.mlssoccer.com/matchcenter/791518', 'HST': 1, 'Date': '07/06/15', 'FTAG': 0}\n",
        "{'FTR': 'D', 'AST': 1, 'HS': 16, 'HomeTeam': u'Real Salt Lake', 'FTHG': 0, 'AwayTeam': u'Colorado Rapids', 'AS': 16, 'Link': u'http://matchcenter.mlssoccer.com/matchcenter/791517', 'HST': 1, 'Date': '07/06/15', 'FTAG': 0}\n",
        "{'FTR': 'H', 'AST': 2, 'HS': 9, 'HomeTeam': u'Seattle Sounders FC', 'FTHG': 3, 'AwayTeam': u'FC Dallas', 'AS': 10, 'Link': u'http://matchcenter.mlssoccer.com/matchcenter/791519', 'HST': 3, 'Date': '13/06/15', 'FTAG': 0}\n",
        "{'FTR': 'H', 'AST': 4, 'HS': 11, 'HomeTeam': u'New England Revolution', 'FTHG': 2, 'AwayTeam': u'Chicago Fire', 'AS': 15, 'Link': u'http://matchcenter.mlssoccer.com/matchcenter/791429', 'HST': 5, 'Date': '13/06/15', 'FTAG': 0}\n",
        "{'FTR': 'H', 'AST': 3, 'HS': 17, 'HomeTeam': u'New York City FC', 'FTHG': 3, 'AwayTeam': u'Montreal Impact', 'AS': 11, 'Link': u'http://matchcenter.mlssoccer.com/matchcenter/791521', 'HST': 9, 'Date': '13/06/15', 'FTAG': 1}\n",
        "{'FTR': 'D', 'AST': 5, 'HS': 11, 'HomeTeam': u'Columbus Crew SC', 'FTHG': 1, 'AwayTeam': u'LA Galaxy', 'AS': 12, 'Link': u'http://matchcenter.mlssoccer.com/matchcenter/791520', 'HST': 4, 'Date': '13/06/15', 'FTAG': 1}\n",
        "{'FTR': 'H', 'AST': 2, 'HS': 13, 'HomeTeam': u'Orlando City SC', 'FTHG': 1, 'AwayTeam': u'D.C. United', 'AS': 11, 'Link': u'http://matchcenter.mlssoccer.com/matchcenter/791522', 'HST': 5, 'Date': '14/06/15', 'FTAG': 0}\n",
        "{'FTR': 'D', 'AST': 3, 'HS': 14, 'HomeTeam': u'Colorado Rapids', 'FTHG': 1, 'AwayTeam': u'FC Dallas', 'AS': 8, 'Link': u'http://matchcenter.mlssoccer.com/matchcenter/791523', 'HST': 3, 'Date': '19/06/15', 'FTAG': 1}\n",
        "{'FTR': 'A', 'AST': 4, 'HS': 12, 'HomeTeam': u'Seattle Sounders FC', 'FTHG': 0, 'AwayTeam': u'San Jose Earthquakes', 'AS': 15, 'Link': u'http://matchcenter.mlssoccer.com/matchcenter/791528', 'HST': 3, 'Date': '20/06/15', 'FTAG': 2}\n",
        "{'FTR': 'H', 'AST': 1, 'HS': 6, 'HomeTeam': u'Portland Timbers', 'FTHG': 2, 'AwayTeam': u'Houston Dynamo', 'AS': 9, 'Link': u'http://matchcenter.mlssoccer.com/matchcenter/791524', 'HST': 2, 'Date': '20/06/15', 'FTAG': 0}\n",
        "{'FTR': 'A', 'AST': 3, 'HS': 7, 'HomeTeam': u'New York Red Bulls', 'FTHG': 1, 'AwayTeam': u'Vancouver Whitecaps FC', 'AS': 9, 'Link': u'http://matchcenter.mlssoccer.com/matchcenter/791529', 'HST': 5, 'Date': '20/06/15', 'FTAG': 2}\n",
        "{'FTR': 'A', 'AST': 4, 'HS': 13, 'HomeTeam': u'Toronto FC', 'FTHG': 0, 'AwayTeam': u'New York City FC', 'AS': 8, 'Link': u'http://matchcenter.mlssoccer.com/matchcenter/791525', 'HST': 4, 'Date': '20/06/15', 'FTAG': 2}\n",
        "{'FTR': 'H', 'AST': 5, 'HS': 21, 'HomeTeam': u'LA Galaxy', 'FTHG': 5, 'AwayTeam': u'Philadelphia Union', 'AS': 14, 'Link': u'http://matchcenter.mlssoccer.com/matchcenter/791527', 'HST': 8, 'Date': '20/06/15', 'FTAG': 1}\n",
        "{'FTR': 'H', 'AST': 3, 'HS': 18, 'HomeTeam': u'Montreal Impact', 'FTHG': 2, 'AwayTeam': u'Orlando City SC', 'AS': 12, 'Link': u'http://matchcenter.mlssoccer.com/matchcenter/791526', 'HST': 5, 'Date': '20/06/15', 'FTAG': 0}\n",
        "{'FTR': 'H', 'AST': 5, 'HS': 15, 'HomeTeam': u'Real Salt Lake', 'FTHG': 2, 'AwayTeam': u'Sporting Kansas City', 'AS': 11, 'Link': u'http://matchcenter.mlssoccer.com/matchcenter/791530', 'HST': 7, 'Date': '21/06/15', 'FTAG': 1}\n",
        "{'FTR': 'H', 'AST': 4, 'HS': 13, 'HomeTeam': u'D.C. United', 'FTHG': 2, 'AwayTeam': u'New England Revolution', 'AS': 12, 'Link': u'http://matchcenter.mlssoccer.com/matchcenter/791531', 'HST': 4, 'Date': '21/06/15', 'FTAG': 1}\n",
        "{'FTR': 'H', 'AST': 2, 'HS': 24, 'HomeTeam': u'New York Red Bulls', 'FTHG': 1, 'AwayTeam': u'Real Salt Lake', 'AS': 4, 'Link': u'http://matchcenter.mlssoccer.com/matchcenter/791537', 'HST': 8, 'Date': '24/06/15', 'FTAG': 0}\n",
        "{'FTR': 'H', 'AST': 6, 'HS': 20, 'HomeTeam': u'Toronto FC', 'FTHG': 3, 'AwayTeam': u'Montreal Impact', 'AS': 14, 'Link': u'http://matchcenter.mlssoccer.com/matchcenter/791534', 'HST': 8, 'Date': '24/06/15', 'FTAG': 1}\n",
        "{'FTR': 'H', 'AST': 4, 'HS': 10, 'HomeTeam': u'Columbus Crew SC', 'FTHG': 2, 'AwayTeam': u'New England Revolution', 'AS': 10, 'Link': u'http://matchcenter.mlssoccer.com/matchcenter/791536', 'HST': 4, 'Date': '24/06/15', 'FTAG': 1}\n",
        "{'FTR': 'H', 'AST': 4, 'HS': 23, 'HomeTeam': u'Orlando City SC', 'FTHG': 2, 'AwayTeam': u'Colorado Rapids', 'AS': 10, 'Link': u'http://matchcenter.mlssoccer.com/matchcenter/791532', 'HST': 8, 'Date': '24/06/15', 'FTAG': 0}\n",
        "{'FTR': 'H', 'AST': 2, 'HS': 12, 'HomeTeam': u'Philadelphia Union', 'FTHG': 1, 'AwayTeam': u'Seattle Sounders FC', 'AS': 9, 'Link': u'http://matchcenter.mlssoccer.com/matchcenter/791538', 'HST': 5, 'Date': '24/06/15', 'FTAG': 0}\n",
        "{'FTR': 'A', 'AST': 4, 'HS': 8, 'HomeTeam': u'Chicago Fire', 'FTHG': 0, 'AwayTeam': u'D.C. United', 'AS': 8, 'Link': u'http://matchcenter.mlssoccer.com/matchcenter/791533', 'HST': 1, 'Date': '24/06/15', 'FTAG': 1}\n",
        "{'FTR': 'H', 'AST': 1, 'HS': 16, 'HomeTeam': u'LA Galaxy', 'FTHG': 5, 'AwayTeam': u'Portland Timbers', 'AS': 16, 'Link': u'http://matchcenter.mlssoccer.com/matchcenter/791535', 'HST': 9, 'Date': '25/06/15', 'FTAG': 0}\n",
        "{'FTR': 'H', 'AST': 3, 'HS': 13, 'HomeTeam': u'FC Dallas', 'FTHG': 2, 'AwayTeam': u'Houston Dynamo', 'AS': 13, 'Link': u'http://matchcenter.mlssoccer.com/matchcenter/791539', 'HST': 4, 'Date': '26/06/15', 'FTAG': 0}\n",
        "{'FTR': 'D', 'AST': 3, 'HS': 18, 'HomeTeam': u'Toronto FC', 'FTHG': 0, 'AwayTeam': u'D.C. United', 'AS': 4, 'Link': u'http://matchcenter.mlssoccer.com/matchcenter/791542', 'HST': 3, 'Date': '27/06/15', 'FTAG': 0}\n",
        "{'FTR': 'D', 'AST': 3, 'HS': 14, 'HomeTeam': u'Real Salt Lake', 'FTHG': 2, 'AwayTeam': u'Columbus Crew SC', 'AS': 7, 'Link': u'http://matchcenter.mlssoccer.com/matchcenter/791541', 'HST': 6, 'Date': '27/06/15', 'FTAG': 2}\n",
        "{'FTR': 'H', 'AST': 5, 'HS': 10, 'HomeTeam': u'San Jose Earthquakes', 'FTHG': 3, 'AwayTeam': u'LA Galaxy', 'AS': 10, 'Link': u'http://matchcenter.mlssoccer.com/matchcenter/791543', 'HST': 4, 'Date': '27/06/15', 'FTAG': 1}\n",
        "{'FTR': 'D', 'AST': 3, 'HS': 10, 'HomeTeam': u'Philadelphia Union', 'FTHG': 2, 'AwayTeam': u'Montreal Impact', 'AS': 6, 'Link': u'http://matchcenter.mlssoccer.com/matchcenter/791544', 'HST': 4, 'Date': '27/06/15', 'FTAG': 2}\n",
        "{'FTR': 'A', 'AST': 6, 'HS': 16, 'HomeTeam': u'New England Revolution', 'FTHG': 1, 'AwayTeam': u'Vancouver Whitecaps FC', 'AS': 12, 'Link': u'http://matchcenter.mlssoccer.com/matchcenter/791545', 'HST': 9, 'Date': '27/06/15', 'FTAG': 2}\n",
        "{'FTR': 'H', 'AST': 2, 'HS': 8, 'HomeTeam': u'Sporting Kansas City', 'FTHG': 2, 'AwayTeam': u'Colorado Rapids', 'AS': 5, 'Link': u'http://matchcenter.mlssoccer.com/matchcenter/791540', 'HST': 4, 'Date': '27/06/15', 'FTAG': 0}\n",
        "{'FTR': 'H', 'AST': 1, 'HS': 24, 'HomeTeam': u'Portland Timbers', 'FTHG': 4, 'AwayTeam': u'Seattle Sounders FC', 'AS': 6, 'Link': u'http://matchcenter.mlssoccer.com/matchcenter/791547', 'HST': 11, 'Date': '28/06/15', 'FTAG': 1}\n",
        "{'FTR': 'A', 'AST': 5, 'HS': 14, 'HomeTeam': u'New York City FC', 'FTHG': 1, 'AwayTeam': u'New York Red Bulls', 'AS': 17, 'Link': u'http://matchcenter.mlssoccer.com/matchcenter/791546', 'HST': 5, 'Date': '28/06/15', 'FTAG': 3}\n",
        "{'FTR': 'D', 'AST': 2, 'HS': 9, 'HomeTeam': u'Houston Dynamo', 'FTHG': 1, 'AwayTeam': u'Chicago Fire', 'AS': 9, 'Link': u'http://matchcenter.mlssoccer.com/matchcenter/791548', 'HST': 2, 'Date': '03/07/15', 'FTAG': 1}\n",
        "{'FTR': 'A', 'AST': 3, 'HS': 25, 'HomeTeam': u'Montreal Impact', 'FTHG': 1, 'AwayTeam': u'New York City FC', 'AS': 5, 'Link': u'http://matchcenter.mlssoccer.com/matchcenter/791551', 'HST': 10, 'Date': '04/07/15', 'FTAG': 2}\n",
        "{'FTR': 'H', 'AST': 2, 'HS': 14, 'HomeTeam': u'Colorado Rapids', 'FTHG': 2, 'AwayTeam': u'Vancouver Whitecaps FC', 'AS': 12, 'Link': u'http://matchcenter.mlssoccer.com/matchcenter/791555', 'HST': 4, 'Date': '04/07/15', 'FTAG': 1}\n",
        "{'FTR': 'H', 'AST': 3, 'HS': 12, 'HomeTeam': u'LA Galaxy', 'FTHG': 4, 'AwayTeam': u'Toronto FC', 'AS': 12, 'Link': u'http://matchcenter.mlssoccer.com/matchcenter/791554', 'HST': 7, 'Date': '04/07/15', 'FTAG': 0}\n",
        "{'FTR': 'H', 'AST': 2, 'HS': 16, 'HomeTeam': u'Seattle Sounders FC', 'FTHG': 1, 'AwayTeam': u'D.C. United', 'AS': 10, 'Link': u'http://matchcenter.mlssoccer.com/matchcenter/791549', 'HST': 5, 'Date': '04/07/15', 'FTAG': 0}\n",
        "{'FTR': 'D', 'AST': 4, 'HS': 23, 'HomeTeam': u'Real Salt Lake', 'FTHG': 1, 'AwayTeam': u'Orlando City SC', 'AS': 9, 'Link': u'http://matchcenter.mlssoccer.com/matchcenter/791553', 'HST': 7, 'Date': '04/07/15', 'FTAG': 1}\n",
        "{'FTR': 'H', 'AST': 2, 'HS': 9, 'HomeTeam': u'FC Dallas', 'FTHG': 3, 'AwayTeam': u'New England Revolution', 'AS': 7, 'Link': u'http://matchcenter.mlssoccer.com/matchcenter/791550', 'HST': 4, 'Date': '04/07/15', 'FTAG': 0}\n",
        "{'FTR': 'H', 'AST': 3, 'HS': 19, 'HomeTeam': u'Columbus Crew SC', 'FTHG': 2, 'AwayTeam': u'New York Red Bulls', 'AS': 11, 'Link': u'http://matchcenter.mlssoccer.com/matchcenter/791552', 'HST': 7, 'Date': '04/07/15', 'FTAG': 1}\n",
        "{'FTR': 'H', 'AST': 2, 'HS': 23, 'HomeTeam': u'Portland Timbers', 'FTHG': 1, 'AwayTeam': u'San Jose Earthquakes', 'AS': 7, 'Link': u'http://matchcenter.mlssoccer.com/matchcenter/791556', 'HST': 7, 'Date': '06/07/15', 'FTAG': 0}\n",
        "{'FTR': 'H', 'AST': 3, 'HS': 19, 'HomeTeam': u'Colorado Rapids', 'FTHG': 3, 'AwayTeam': u'Real Salt Lake', 'AS': 5, 'Link': u'http://matchcenter.mlssoccer.com/matchcenter/791565', 'HST': 6, 'Date': '11/07/15', 'FTAG': 1}\n",
        "{'FTR': 'H', 'AST': 2, 'HS': 16, 'HomeTeam': u'Chicago Fire', 'FTHG': 1, 'AwayTeam': u'Seattle Sounders FC', 'AS': 10, 'Link': u'http://matchcenter.mlssoccer.com/matchcenter/791563', 'HST': 6, 'Date': '11/07/15', 'FTAG': 0}\n",
        "{'FTR': 'A', 'AST': 8, 'HS': 14, 'HomeTeam': u'San Jose Earthquakes', 'FTHG': 0, 'AwayTeam': u'Houston Dynamo', 'AS': 13, 'Link': u'http://matchcenter.mlssoccer.com/matchcenter/791558', 'HST': 3, 'Date': '11/07/15', 'FTAG': 2}\n",
        "{'FTR': 'H', 'AST': 5, 'HS': 8, 'HomeTeam': u'Montreal Impact', 'FTHG': 3, 'AwayTeam': u'Columbus Crew SC', 'AS': 15, 'Link': u'http://matchcenter.mlssoccer.com/matchcenter/791559', 'HST': 5, 'Date': '11/07/15', 'FTAG': 0}\n",
        "{'FTR': 'A', 'AST': 5, 'HS': 5, 'HomeTeam': u'Orlando City SC', 'FTHG': 0, 'AwayTeam': u'FC Dallas', 'AS': 14, 'Link': u'http://matchcenter.mlssoccer.com/matchcenter/791560', 'HST': 0, 'Date': '11/07/15', 'FTAG': 2}\n",
        "{'FTR': 'H', 'AST': 4, 'HS': 17, 'HomeTeam': u'Philadelphia Union', 'FTHG': 3, 'AwayTeam': u'Portland Timbers', 'AS': 8, 'Link': u'http://matchcenter.mlssoccer.com/matchcenter/791562', 'HST': 7, 'Date': '11/07/15', 'FTAG': 0}\n",
        "{'FTR': 'H', 'AST': 3, 'HS': 15, 'HomeTeam': u'New York Red Bulls', 'FTHG': 4, 'AwayTeam': u'New England Revolution', 'AS': 11, 'Link': u'http://matchcenter.mlssoccer.com/matchcenter/791561', 'HST': 9, 'Date': '11/07/15', 'FTAG': 1}\n",
        "{'FTR': 'D', 'AST': 5, 'HS': 15, 'HomeTeam': u'New York City FC', 'FTHG': 4, 'AwayTeam': u'Toronto FC', 'AS': 13, 'Link': u'http://matchcenter.mlssoccer.com/matchcenter/791566', 'HST': 8, 'Date': '12/07/15', 'FTAG': 4}\n",
        "{'FTR': 'A', 'AST': 4, 'HS': 14, 'HomeTeam': u'Vancouver Whitecaps FC', 'FTHG': 0, 'AwayTeam': u'Sporting Kansas City', 'AS': 13, 'Link': u'http://matchcenter.mlssoccer.com/matchcenter/791564', 'HST': 7, 'Date': '12/07/15', 'FTAG': 1}\n",
        "{'FTR': 'A', 'AST': 7, 'HS': 8, 'HomeTeam': u'Chicago Fire', 'FTHG': 0, 'AwayTeam': u'Columbus Crew SC', 'AS': 14, 'Link': u'http://matchcenter.mlssoccer.com/matchcenter/791567', 'HST': 2, 'Date': '15/07/15', 'FTAG': 1}\n",
        "{'FTR': 'H', 'AST': 3, 'HS': 14, 'HomeTeam': u'New England Revolution', 'FTHG': 1, 'AwayTeam': u'New York City FC', 'AS': 9, 'Link': u'http://matchcenter.mlssoccer.com/matchcenter/791573', 'HST': 4, 'Date': '18/07/15', 'FTAG': 0}\n",
        "{'FTR': 'H', 'AST': 2, 'HS': 14, 'HomeTeam': u'Real Salt Lake', 'FTHG': 2, 'AwayTeam': u'Houston Dynamo', 'AS': 4, 'Link': u'http://matchcenter.mlssoccer.com/matchcenter/791571', 'HST': 7, 'Date': '18/07/15', 'FTAG': 0}\n",
        "{'FTR': 'A', 'AST': 2, 'HS': 10, 'HomeTeam': u'Seattle Sounders FC', 'FTHG': 0, 'AwayTeam': u'Colorado Rapids', 'AS': 13, 'Link': u'http://matchcenter.mlssoccer.com/matchcenter/791569', 'HST': 3, 'Date': '18/07/15', 'FTAG': 1}\n",
        "{'FTR': 'H', 'AST': 2, 'HS': 10, 'HomeTeam': u'Sporting Kansas City', 'FTHG': 2, 'AwayTeam': u'Montreal Impact', 'AS': 6, 'Link': u'http://matchcenter.mlssoccer.com/matchcenter/791572', 'HST': 4, 'Date': '18/07/15', 'FTAG': 1}\n",
        "{'FTR': 'H', 'AST': 3, 'HS': 13, 'HomeTeam': u'LA Galaxy', 'FTHG': 5, 'AwayTeam': u'San Jose Earthquakes', 'AS': 8, 'Link': u'http://matchcenter.mlssoccer.com/matchcenter/791568', 'HST': 8, 'Date': '18/07/15', 'FTAG': 2}\n",
        "{'FTR': 'H', 'AST': 2, 'HS': 26, 'HomeTeam': u'FC Dallas', 'FTHG': 2, 'AwayTeam': u'D.C. United', 'AS': 6, 'Link': u'http://matchcenter.mlssoccer.com/matchcenter/791570', 'HST': 8, 'Date': '18/07/15', 'FTAG': 1}\n",
        "{'FTR': 'D', 'AST': 6, 'HS': 14, 'HomeTeam': u'Portland Timbers', 'FTHG': 1, 'AwayTeam': u'Vancouver Whitecaps FC', 'AS': 16, 'Link': u'http://matchcenter.mlssoccer.com/matchcenter/791654', 'HST': 3, 'Date': '18/07/15', 'FTAG': 1}\n",
        "{'FTR': 'A', 'AST': 4, 'HS': 15, 'HomeTeam': u'Orlando City SC', 'FTHG': 0, 'AwayTeam': u'New York Red Bulls', 'AS': 10, 'Link': u'http://matchcenter.mlssoccer.com/matchcenter/791576', 'HST': 4, 'Date': '18/07/15', 'FTAG': 2}\n",
        "{'FTR': 'H', 'AST': 2, 'HS': 13, 'HomeTeam': u'Toronto FC', 'FTHG': 2, 'AwayTeam': u'Philadelphia Union', 'AS': 6, 'Link': u'http://matchcenter.mlssoccer.com/matchcenter/791574', 'HST': 4, 'Date': '18/07/15', 'FTAG': 1}\n",
        "{'FTR': 'H', 'AST': 4, 'HS': 13, 'HomeTeam': u'Columbus Crew SC', 'FTHG': 3, 'AwayTeam': u'Chicago Fire', 'AS': 15, 'Link': u'http://matchcenter.mlssoccer.com/matchcenter/791575', 'HST': 6, 'Date': '19/07/15', 'FTAG': 1}\n",
        "{'FTR': 'D', 'AST': 7, 'HS': 14, 'HomeTeam': u'Columbus Crew SC', 'FTHG': 3, 'AwayTeam': u'Toronto FC', 'AS': 14, 'Link': u'http://matchcenter.mlssoccer.com/matchcenter/791583', 'HST': 7, 'Date': '25/07/15', 'FTAG': 3}\n",
        "{'FTR': 'H', 'AST': 6, 'HS': 14, 'HomeTeam': u'Real Salt Lake', 'FTHG': 2, 'AwayTeam': u'Sporting Kansas City', 'AS': 12, 'Link': u'http://matchcenter.mlssoccer.com/matchcenter/791577', 'HST': 6, 'Date': '25/07/15', 'FTAG': 1}\n",
        "{'FTR': 'H', 'AST': 3, 'HS': 16, 'HomeTeam': u'FC Dallas', 'FTHG': 4, 'AwayTeam': u'Portland Timbers', 'AS': 10, 'Link': u'http://matchcenter.mlssoccer.com/matchcenter/791581', 'HST': 7, 'Date': '25/07/15', 'FTAG': 1}\n",
        "{'FTR': 'H', 'AST': 0, 'HS': 15, 'HomeTeam': u'Montreal Impact', 'FTHG': 1, 'AwayTeam': u'Seattle Sounders FC', 'AS': 3, 'Link': u'http://matchcenter.mlssoccer.com/matchcenter/791582', 'HST': 6, 'Date': '25/07/15', 'FTAG': 0}\n",
        "{'FTR': 'H', 'AST': 3, 'HS': 14, 'HomeTeam': u'Houston Dynamo', 'FTHG': 3, 'AwayTeam': u'LA Galaxy', 'AS': 7, 'Link': u'http://matchcenter.mlssoccer.com/matchcenter/791579', 'HST': 7, 'Date': '25/07/15', 'FTAG': 0}\n",
        "{'FTR': 'D', 'AST': 4, 'HS': 13, 'HomeTeam': u'Chicago Fire', 'FTHG': 2, 'AwayTeam': u'New England Revolution', 'AS': 4, 'Link': u'http://matchcenter.mlssoccer.com/matchcenter/791580', 'HST': 6, 'Date': '25/07/15', 'FTAG': 2}\n",
        "{'FTR': 'H', 'AST': 3, 'HS': 13, 'HomeTeam': u'Vancouver Whitecaps FC', 'FTHG': 3, 'AwayTeam': u'San Jose Earthquakes', 'AS': 8, 'Link': u'http://matchcenter.mlssoccer.com/matchcenter/791586', 'HST': 7, 'Date': '26/07/15', 'FTAG': 1}\n",
        "{'FTR': 'H', 'AST': 4, 'HS': 11, 'HomeTeam': u'New York City FC', 'FTHG': 5, 'AwayTeam': u'Orlando City SC', 'AS': 11, 'Link': u'http://matchcenter.mlssoccer.com/matchcenter/791584', 'HST': 6, 'Date': '26/07/15', 'FTAG': 3}\n",
        "{'FTR': 'H', 'AST': 6, 'HS': 15, 'HomeTeam': u'D.C. United', 'FTHG': 3, 'AwayTeam': u'Philadelphia Union', 'AS': 16, 'Link': u'http://matchcenter.mlssoccer.com/matchcenter/791585', 'HST': 5, 'Date': '26/07/15', 'FTAG': 2}\n",
        "{'FTR': 'D', 'AST': 5, 'HS': 8, 'HomeTeam': u'Sporting Kansas City', 'FTHG': 1, 'AwayTeam': u'Houston Dynamo', 'AS': 7, 'Link': u'http://matchcenter.mlssoccer.com/matchcenter/791588', 'HST': 3, 'Date': '01/08/15', 'FTAG': 1}\n",
        "{'FTR': 'A', 'AST': 5, 'HS': 11, 'HomeTeam': u'Colorado Rapids', 'FTHG': 1, 'AwayTeam': u'LA Galaxy', 'AS': 8, 'Link': u'http://matchcenter.mlssoccer.com/matchcenter/791589', 'HST': 2, 'Date': '01/08/15', 'FTAG': 3}\n",
        "{'FTR': 'H', 'AST': 5, 'HS': 18, 'HomeTeam': u'Orlando City SC', 'FTHG': 5, 'AwayTeam': u'Columbus Crew SC', 'AS': 12, 'Link': u'http://matchcenter.mlssoccer.com/matchcenter/791587', 'HST': 8, 'Date': '01/08/15', 'FTAG': 2}\n",
        "{'FTR': 'H', 'AST': 2, 'HS': 11, 'HomeTeam': u'New England Revolution', 'FTHG': 3, 'AwayTeam': u'Toronto FC', 'AS': 10, 'Link': u'http://matchcenter.mlssoccer.com/matchcenter/791593', 'HST': 7, 'Date': '01/08/15', 'FTAG': 1}\n",
        "{'FTR': 'H', 'AST': 11, 'HS': 22, 'HomeTeam': u'D.C. United', 'FTHG': 6, 'AwayTeam': u'Real Salt Lake', 'AS': 17, 'Link': u'http://matchcenter.mlssoccer.com/matchcenter/791592', 'HST': 12, 'Date': '01/08/15', 'FTAG': 4}\n",
        "{'FTR': 'A', 'AST': 9, 'HS': 12, 'HomeTeam': u'New York City FC', 'FTHG': 2, 'AwayTeam': u'Montreal Impact', 'AS': 15, 'Link': u'http://matchcenter.mlssoccer.com/matchcenter/791590', 'HST': 5, 'Date': '01/08/15', 'FTAG': 3}\n",
        "{'FTR': 'A', 'AST': 4, 'HS': 17, 'HomeTeam': u'Philadelphia Union', 'FTHG': 1, 'AwayTeam': u'New York Red Bulls', 'AS': 9, 'Link': u'http://matchcenter.mlssoccer.com/matchcenter/791591', 'HST': 3, 'Date': '01/08/15', 'FTAG': 3}\n",
        "{'FTR': 'A', 'AST': 7, 'HS': 13, 'HomeTeam': u'Seattle Sounders FC', 'FTHG': 0, 'AwayTeam': u'Vancouver Whitecaps FC', 'AS': 10, 'Link': u'http://matchcenter.mlssoccer.com/matchcenter/791594', 'HST': 3, 'Date': '01/08/15', 'FTAG': 3}\n",
        "{'FTR': 'H', 'AST': 3, 'HS': 11, 'HomeTeam': u'Chicago Fire', 'FTHG': 2, 'AwayTeam': u'FC Dallas', 'AS': 13, 'Link': u'http://matchcenter.mlssoccer.com/matchcenter/791595', 'HST': 6, 'Date': '02/08/15', 'FTAG': 0}\n",
        "{'FTR': 'D', 'AST': 5, 'HS': 12, 'HomeTeam': u'San Jose Earthquakes', 'FTHG': 0, 'AwayTeam': u'Portland Timbers', 'AS': 15, 'Link': u'http://matchcenter.mlssoccer.com/matchcenter/791596', 'HST': 3, 'Date': '02/08/15', 'FTAG': 0}\n",
        "DONE\n"
       ]
      }
     ],
     "prompt_number": 5
    },
    {
     "cell_type": "code",
     "collapsed": false,
     "input": [
      "len(output_matches)\n"
     ],
     "language": "python",
     "metadata": {},
     "outputs": [
      {
       "metadata": {},
       "output_type": "pyout",
       "prompt_number": 6,
       "text": [
        "129"
       ]
      }
     ],
     "prompt_number": 6
    },
    {
     "cell_type": "code",
     "collapsed": false,
     "input": [],
     "language": "python",
     "metadata": {},
     "outputs": []
    }
   ],
   "metadata": {}
  }
 ]
}